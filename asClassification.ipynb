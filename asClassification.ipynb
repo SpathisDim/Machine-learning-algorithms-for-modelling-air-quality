{
  "nbformat": 4,
  "nbformat_minor": 0,
  "metadata": {
    "colab": {
      "name": "asClassification.ipynb",
      "provenance": []
    },
    "kernelspec": {
      "name": "python3",
      "display_name": "Python 3"
    },
    "language_info": {
      "name": "python"
    }
  },
  "cells": [
    {
      "cell_type": "markdown",
      "metadata": {
        "id": "lvKaEVQGeQZg"
      },
      "source": [
        "# Importing the libraries"
      ]
    },
    {
      "cell_type": "code",
      "metadata": {
        "id": "gtTejPxueTnb"
      },
      "source": [
        "import pandas as pd\n",
        "import numpy as np\n",
        "import matplotlib.pyplot as plt\n",
        "import seaborn as sns\n",
        "import warnings\n",
        "from IPython.display import display\n",
        "warnings.filterwarnings(action='ignore')"
      ],
      "execution_count": 1,
      "outputs": []
    },
    {
      "cell_type": "markdown",
      "metadata": {
        "id": "_Y7KDvskedXU"
      },
      "source": [
        "# Importing the dataset"
      ]
    },
    {
      "cell_type": "code",
      "metadata": {
        "colab": {
          "base_uri": "https://localhost:8080/"
        },
        "id": "hJsaGTfAe2qB",
        "outputId": "14fa36a1-776a-4bff-9f22-e79765b959ae"
      },
      "source": [
        "dataset='data.csv'\n",
        "data = pd.read_csv(dataset)\n",
        "data.drop(\"Unnamed: 0\",axis=1,inplace=True)\n",
        "print(data.head())\n"
      ],
      "execution_count": 2,
      "outputs": [
        {
          "output_type": "stream",
          "text": [
            "       Date  Hours   WS   WD PM10\n",
            "0  1/4/2015  01:00  1.4  141   39\n",
            "1  1/4/2015  02:00  1.2  168   40\n",
            "2  1/4/2015  03:00  1.1  160   32\n",
            "3  1/4/2015  04:00  0.5  233   20\n",
            "4  1/4/2015  05:00  0.8   55   11\n"
          ],
          "name": "stdout"
        }
      ]
    },
    {
      "cell_type": "markdown",
      "metadata": {
        "id": "RzamjeQogS-C"
      },
      "source": [
        "\n",
        "# Data Preprocessing "
      ]
    },
    {
      "cell_type": "markdown",
      "metadata": {
        "id": "Q9VzqZl1gyIt"
      },
      "source": [
        "##### Print the data information and replace the \"NoData\", \"Samp\", \"OffScan\" values ​​with the recognized NaN value for the dataframe"
      ]
    },
    {
      "cell_type": "code",
      "metadata": {
        "colab": {
          "base_uri": "https://localhost:8080/"
        },
        "id": "R1PgzIQ5gm5X",
        "outputId": "6e5d4e7b-5620-42a5-d066-cf3f59a0a7a1"
      },
      "source": [
        "data.info()\n",
        "print('Are there any duplicated values in our data ? : {}\\n'.format(data.duplicated().any()))\n",
        "print('The total number of null values in each column:')\n",
        "new_data=data.replace('NoData', np.NaN)                                         #antikathistw tis NoData values me anagnwrisimo NaN gia to dataframe\n",
        "new_data=new_data.replace('Samp<', np.NaN)\n",
        "new_data=new_data.replace('OffScan', np.NaN)\n",
        "print(new_data.isnull().sum())"
      ],
      "execution_count": 3,
      "outputs": [
        {
          "output_type": "stream",
          "text": [
            "<class 'pandas.core.frame.DataFrame'>\n",
            "RangeIndex: 7752 entries, 0 to 7751\n",
            "Data columns (total 5 columns):\n",
            " #   Column  Non-Null Count  Dtype \n",
            "---  ------  --------------  ----- \n",
            " 0   Date    7752 non-null   object\n",
            " 1   Hours   7752 non-null   object\n",
            " 2   WS      7752 non-null   object\n",
            " 3   WD      7752 non-null   object\n",
            " 4   PM10    7752 non-null   object\n",
            "dtypes: object(5)\n",
            "memory usage: 302.9+ KB\n",
            "Are there any duplicated values in our data ? : False\n",
            "\n",
            "The total number of null values in each column:\n",
            "Date     0\n",
            "Hours    0\n",
            "WS       6\n",
            "WD       6\n",
            "PM10     6\n",
            "dtype: int64\n"
          ],
          "name": "stdout"
        }
      ]
    },
    {
      "cell_type": "markdown",
      "metadata": {
        "id": "UeTARnTQh6YU"
      },
      "source": [
        "####Conversion of degrees to wind directions"
      ]
    },
    {
      "cell_type": "code",
      "metadata": {
        "id": "Vd31bNjPiAlb"
      },
      "source": [
        "df=new_data #copy to df\n",
        "df=df.astype({'WD': 'float64'})\n",
        "df=df.astype({'WS': 'float64'})\n",
        "df=df.astype({'PM10': 'float64'})\n",
        "\n",
        "df.loc[(df['WD'] >337.5) | (df['WD']<=22.5),'WD1']= 'N'\n",
        "\n",
        "df.loc[(df['WD'] >22.5) & (df['WD']<=67.5),'WD2']= 'NE'\n",
        "\n",
        "df.loc[(df['WD'] >67.5) & (df['WD']<=112.5),'WD3']= 'Ε'\n",
        "\n",
        "df.loc[(df['WD'] >112.5) & (df['WD']<=157.5),'WD4']= 'SE'\n",
        "\n",
        "df.loc[(df['WD'] >157.5) & (df['WD']<=202.5),'WD5']= 'S'\n",
        "\n",
        "df.loc[(df['WD'] >202.5) & (df['WD']<=247.5),'WD6']= 'SW'\n",
        "\n",
        "df.loc[(df['WD'] >247.5) & (df['WD']<=292.5),'WD7']= 'W'\n",
        "\n",
        "df.loc[(df['WD'] >292.5) & (df['WD']<=337.5),'WD8']= 'NW'\n",
        "\n",
        "#kanw x.dropna gia na xefortwthw tis NaN times\n",
        "df[\"WindDirection\"]=df[['WD1','WD2','WD3','WD4','WD5','WD6','WD7','WD8']].apply(lambda x: ''.join(x.dropna().astype(str)),axis=1)"
      ],
      "execution_count": 4,
      "outputs": []
    },
    {
      "cell_type": "markdown",
      "metadata": {
        "id": "PU4p9y7_ieXj"
      },
      "source": [
        "####Change the wrong time and combine the hours with the dates"
      ]
    },
    {
      "cell_type": "code",
      "metadata": {
        "colab": {
          "base_uri": "https://localhost:8080/"
        },
        "id": "WnaQo5zKju34",
        "outputId": "1b1c8ba6-a9cc-4ed6-bd8c-4046cbf592e5"
      },
      "source": [
        "df=df.replace('24:00', '00:00')                    #diorthwnw tin lanthasmeni wra\n",
        "df['months']=df['Date'].str.split('/').str[1]\n",
        "df['days']=df['Date'].str.split('/').str[0]\n",
        "df['hours']=df['Hours'].str.split(':').str[0]\n",
        "df['nodays']=df['Date'].str.split('').str[0]\n",
        "\n",
        "#ftiaxnw to datetime enwnw thn hmeromhnia me tis wres \n",
        "full_date=[]\n",
        "for i in range(df.shape[0]):\n",
        "       full_date.append(str(df['months'].values[i]+'-'+str(df['days'].values[i])+'-15'+' '+str(df['Hours'].values[i])))#default seira M D Y vazw 15 gt to kanei aytomata 2015          \n",
        "dates=pd.to_datetime(full_date)\n",
        "dates=pd.DataFrame(dates,columns=['datetime'])\n",
        "df=pd.concat([dates,df],axis=1)\n",
        "print(dates)\n"
      ],
      "execution_count": 5,
      "outputs": [
        {
          "output_type": "stream",
          "text": [
            "                datetime\n",
            "0    2015-04-01 01:00:00\n",
            "1    2015-04-01 02:00:00\n",
            "2    2015-04-01 03:00:00\n",
            "3    2015-04-01 04:00:00\n",
            "4    2015-04-01 05:00:00\n",
            "...                  ...\n",
            "7747 2015-09-02 20:00:00\n",
            "7748 2015-09-02 21:00:00\n",
            "7749 2015-09-02 22:00:00\n",
            "7750 2015-09-02 23:00:00\n",
            "7751 2015-09-02 00:00:00\n",
            "\n",
            "[7752 rows x 1 columns]\n"
          ],
          "name": "stdout"
        }
      ]
    },
    {
      "cell_type": "markdown",
      "metadata": {
        "id": "PUPonucqEU1k"
      },
      "source": [
        "####I convert the values ​​of PΜ10 into air quality indicators (categorical type)\n"
      ]
    },
    {
      "cell_type": "code",
      "metadata": {
        "id": "S4lMtXt1EVLq"
      },
      "source": [
        "#Metatrepw tis times toy PM10 se deiktes poiotitas tou aera (1-10)\n",
        "df.loc[(df['PM10'] >= 0) & (df['PM10']<=16),'LOW1']= 1\n",
        "\n",
        "df.loc[(df['PM10'] >= 17) & (df['PM10']<=33),'LOW2']= 2\n",
        "\n",
        "df.loc[(df['PM10'] >= 34) & (df['PM10']<=50),'LOW3']= 3\n",
        "\n",
        "df.loc[(df['PM10'] >= 51) & (df['PM10']<=58),'MOD1']= 4\n",
        "\n",
        "df.loc[(df['PM10'] >= 59) & (df['PM10']<=66),'MOD2']= 5\n",
        "\n",
        "df.loc[(df['PM10'] >= 67) & (df['PM10']<=75),'MOD3']= 6\n",
        "\n",
        "df.loc[(df['PM10'] >= 76) & (df['PM10']<=83),'HIGH1']= 7\n",
        "\n",
        "df.loc[(df['PM10'] >= 84) & (df['PM10']<=91),'HIGH2']= 8\n",
        "\n",
        "df.loc[(df['PM10'] >= 92) & (df['PM10']<=100),'HIGH3']= 9\n",
        "\n",
        "df.loc[(df['PM10'] > 100) ,'VERYHIGH']= 10\n",
        "\n",
        "df[\"PM10_deiktis\"]=df[['LOW1','LOW2','LOW3','MOD1','MOD2','MOD3','HIGH1','HIGH2','HIGH3','VERYHIGH']].apply(lambda x: ''.join(x.dropna().astype(int).astype(str)),axis=1)\n",
        "#kanw thn nea sthlh int (Cannot use mean strategy with non-numeric data)\n",
        "#df['PM10_deiktis']=df['PM10_deiktis'].replace({'1':1, '2':2, '3':3, '4':4, '5':5, '6':6, '7':7, '8':8, '9':9,'10':10}) \n",
        "df[\"PM10_deiktis\"] = pd.to_numeric(df[\"PM10_deiktis\"])\n",
        "newDf=df[['hours','days','months','WindDirection','WS','PM10','PM10_deiktis']]"
      ],
      "execution_count": 6,
      "outputs": []
    },
    {
      "cell_type": "markdown",
      "metadata": {
        "id": "_FPeBKaMk4i6"
      },
      "source": [
        "Find the most appearing wind direction value and the max values "
      ]
    },
    {
      "cell_type": "code",
      "metadata": {
        "colab": {
          "base_uri": "https://localhost:8080/"
        },
        "id": "zlTn5grClWkB",
        "outputId": "0f3df579-2432-4059-923e-9563c5c5d6b5"
      },
      "source": [
        "print('\\nMost appearing for Wind speed',df.WS.mode())\n",
        "print('Most appearing for direction ',df.WindDirection.mode())\n",
        "print('Most appearing for PM10 ', df.PM10.mode())\n",
        "print('\\nMax values','\\n WindSpeed:',df.WS.max(), '\\n WindDirection:', df.WindDirection.max() )"
      ],
      "execution_count": 7,
      "outputs": [
        {
          "output_type": "stream",
          "text": [
            "\n",
            "Most appearing for Wind speed 0    0.7\n",
            "dtype: float64\n",
            "Most appearing for direction  0    NW\n",
            "dtype: object\n",
            "Most appearing for PM10  0    14.0\n",
            "dtype: float64\n",
            "\n",
            "Max values \n",
            " WindSpeed: 8.3 \n",
            " WindDirection: Ε\n"
          ],
          "name": "stdout"
        }
      ]
    },
    {
      "cell_type": "markdown",
      "metadata": {
        "id": "RyU5HCGCl0Dk"
      },
      "source": [
        "####Plot the data"
      ]
    },
    {
      "cell_type": "code",
      "metadata": {
        "colab": {
          "base_uri": "https://localhost:8080/",
          "height": 352
        },
        "id": "sOTc1aQSmDRO",
        "outputId": "d145ce61-c6dc-48a4-cb1e-c21b16ac078b"
      },
      "source": [
        "plt.figure(figsize=(10,5))\n",
        "sns.histplot(df['PM10'],bins=50)\n",
        "plt.title('Distribution of the hourly recorded PM10 concetration in the air',fontsize=16)\n",
        "plt.show()\n"
      ],
      "execution_count": 8,
      "outputs": [
        {
          "output_type": "display_data",
          "data": {
            "image/png": "[encoded data removed]",
            "text/plain": [
              "<Figure size 720x360 with 1 Axes>"
            ]
          },
          "metadata": {
            "tags": [],
            "needs_background": "light"
          }
        }
      ]
    },
    {
      "cell_type": "code",
      "metadata": {
        "colab": {
          "base_uri": "https://localhost:8080/",
          "height": 369
        },
        "id": "j6oqcxwAmjqG",
        "outputId": "c1e2d06d-6a8a-4892-fa64-30d1f563b7a6"
      },
      "source": [
        "df['months']=df['months'].replace('08',8)\n",
        "df['months']=df['months'].replace('07',7)\n",
        "df['months']=df['months'].replace('06',6)\n",
        "df=df.astype({'months': 'int64'})\n",
        "\n",
        "monthly_data=df[['months','PM10']]\n",
        "months2 = ['January','February','March','April','May','June','July',\n",
        "           'August','September','October','November','December']\n",
        "monthdf = pd.DataFrame(months2,columns=['months'])\n",
        "monthFullname={}\n",
        "for i,j in enumerate(months2):\n",
        "    monthFullname.setdefault(i+1,j)                                             #i+1 giati thelw na xekinaei apo 1(Ianouarios) kai oxi apo 0\n",
        "\n",
        "#antistoixisi sto dataframe twn mhnwn -> olografws tous mhnes\n",
        "monthly_data.months = monthly_data.months.map(monthFullname)\n",
        "monthly_avg=monthly_data.groupby('months').median()                             #Ton meso oro PM10 ana mina\n",
        "monthly_avg = pd.merge(monthdf,monthly_avg,left_on='months',right_index=True)\n",
        "#strogilopoihsh ton meso oro se periptwsh pou xreiastei\n",
        "monthly_avg = np.round(monthly_avg,1)\n",
        "monthly_avg=monthly_avg.set_index('months')\n",
        "\n",
        "with plt.style.context('ggplot'):\n",
        "    monthly_avg.plot(figsize=(10,5),kind='bar',color='mediumseagreen',linewidth=1)\n",
        "    plt.xlabel('Months',fontsize=12)\n",
        "    plt.ylabel('PM10 concentration ',fontsize=12)\n",
        "    plt.title('Monthly average of the hourly recorded PM10 concentration in\\nthe air',fontsize=14)\n",
        "    plt.grid(axis='x')\n",
        "    plt.tight_layout()\n",
        "    plt.show()\n"
      ],
      "execution_count": 9,
      "outputs": [
        {
          "output_type": "display_data",
          "data": {
            "image/png": "[encoded data removed]",
            "text/plain": [
              "<Figure size 720x360 with 1 Axes>"
            ]
          },
          "metadata": {
            "tags": []
          }
        }
      ]
    },
    {
      "cell_type": "code",
      "metadata": {
        "id": "w4csPVqssZ4h"
      },
      "source": [
        "#diorthwnw to format ths wras apo 01 02 se 1,2 klp.\n",
        "df['hours']=df['hours'].replace({'00':0, '01':1}) "
      ],
      "execution_count": 10,
      "outputs": []
    },
    {
      "cell_type": "code",
      "metadata": {
        "colab": {
          "base_uri": "https://localhost:8080/",
          "height": 369
        },
        "id": "AFDJ7lIFsL0t",
        "outputId": "e518cfc4-ee02-4233-aec7-ef05530038b2"
      },
      "source": [
        "hours=['12 AM','1 AM','2 AM','3 AM','4 AM','5 AM','6 AM','7 AM','8 AM','9 AM','10 AM',\n",
        "      '11 AM','12 PM','1 PM','2 PM','3 PM','4 PM','5 PM','6 PM','7 PM','8 PM','9 PM','10 PM','11 PM']\n",
        "hours_matching={}\n",
        "for i,j in enumerate(hours):\n",
        "    hours_matching.setdefault(i,j)\n",
        "\n",
        "hourly_avg=df[['hours','PM10']].groupby('hours').median().reset_index()\n",
        "hourly_avg.hours=hourly_avg.hours.map(hours_matching)\n",
        "hourly_avg=hourly_avg.set_index('hours')\n",
        "\n",
        "with plt.style.context('ggplot'):\n",
        "    hourly_avg.plot(figsize=(10,5),color='mediumseagreen',kind='barh',linewidth=1)\n",
        "    plt.ylabel('Hours',fontsize=12)\n",
        "    plt.xlabel('PM10 concentration',fontsize=12)\n",
        "    plt.title('Average recorded PM10 concentration in the air by the hour of the day',fontsize=16)\n",
        "    plt.grid(axis='y')\n",
        "    plt.tight_layout()\n",
        "    plt.show()"
      ],
      "execution_count": 11,
      "outputs": [
        {
          "output_type": "display_data",
          "data": {
            "image/png": "[encoded data removed]",
            "text/plain": [
              "<Figure size 720x360 with 1 Axes>"
            ]
          },
          "metadata": {
            "tags": []
          }
        }
      ]
    },
    {
      "cell_type": "code",
      "metadata": {
        "colab": {
          "base_uri": "https://localhost:8080/",
          "height": 369
        },
        "id": "tKzhe47kskuZ",
        "outputId": "6bb1d898-6933-406f-d7a7-6d2b4b8f7f52"
      },
      "source": [
        "wind_data=df[['WindDirection','PM10']]\n",
        "wind_data=wind_data.groupby('WindDirection').median()\n",
        "\n",
        "with plt.style.context('ggplot'):\n",
        "    wind_data.plot(figsize=(10,5),color='mediumseagreen',kind='barh',linewidth=1)\n",
        "    plt.ylabel('Wind direction',fontsize=12)\n",
        "    plt.xlabel('PM10 concentration',fontsize=12)\n",
        "    plt.title('Average hourly recorded PM10 concentration in the air grouped by wind direction',fontsize=16)\n",
        "    plt.grid(axis='y')\n",
        "    plt.tight_layout()\n",
        "    plt.show()"
      ],
      "execution_count": 12,
      "outputs": [
        {
          "output_type": "display_data",
          "data": {
            "image/png": "[encoded data removed]",
            "text/plain": [
              "<Figure size 720x360 with 1 Axes>"
            ]
          },
          "metadata": {
            "tags": []
          }
        }
      ]
    },
    {
      "cell_type": "code",
      "metadata": {
        "colab": {
          "base_uri": "https://localhost:8080/",
          "height": 369
        },
        "id": "fiQ3zzfVtJjg",
        "outputId": "d07dce85-4612-4a71-9ced-396420a121d4"
      },
      "source": [
        "wind_speed=df[['WS','WindDirection']]\n",
        "wind_speed=wind_speed.groupby('WindDirection').median()\n",
        "\n",
        "with plt.style.context('ggplot'):\n",
        "    wind_speed.plot(figsize=(10,5),color='mediumseagreen',kind='barh',linewidth=1)\n",
        "    plt.ylabel('WD',fontsize=12)\n",
        "    plt.xlabel('AVG WS ',fontsize=12)\n",
        "    plt.title('Average wind speed by wind direction',fontsize=16)\n",
        "    plt.grid(axis='y')\n",
        "    plt.tight_layout()\n",
        "    plt.show()"
      ],
      "execution_count": 13,
      "outputs": [
        {
          "output_type": "display_data",
          "data": {
            "image/png": "[encoded data removed]",
            "text/plain": [
              "<Figure size 720x360 with 1 Axes>"
            ]
          },
          "metadata": {
            "tags": []
          }
        }
      ]
    },
    {
      "cell_type": "markdown",
      "metadata": {
        "id": "W0bVPzjVtYk_"
      },
      "source": [
        "##Taking care of missing data"
      ]
    },
    {
      "cell_type": "code",
      "metadata": {
        "id": "YuSBKBAsEAPm"
      },
      "source": [
        "from sklearn.impute import SimpleImputer\n",
        "imputer = SimpleImputer(missing_values=np.nan, strategy='mean')\n",
        "imputer.fit(newDf.iloc[:,4:].values)\n",
        "newDf.iloc[:,4:] = imputer.transform(newDf.iloc[:,4:].values)\n",
        "\n",
        "#reset to characters\n",
        "newDf.loc[(newDf['PM10_deiktis'] == 1),'LOW1']='low1'\n",
        "newDf.loc[(newDf['PM10_deiktis'] == 2),'LOW2']='low2'\n",
        "newDf.loc[(newDf['PM10_deiktis'] == 3),'LOW3']='low3'\n",
        "newDf.loc[(newDf['PM10_deiktis'] == 4),'MOD1']='mod1'\n",
        "newDf.loc[(newDf['PM10_deiktis'] == 5),'MOD2']='mod2'\n",
        "newDf.loc[(newDf['PM10_deiktis'] == 6),'MOD3']='mod3'\n",
        "newDf.loc[(newDf['PM10_deiktis'] == 7),'HIGH1']='high1'\n",
        "newDf.loc[(newDf['PM10_deiktis'] == 8),'HIGH2']='high2'\n",
        "newDf.loc[(newDf['PM10_deiktis'] == 9),'HIGH3']='high3'\n",
        "newDf.loc[(newDf['PM10_deiktis'] == 10),'VERYHIGH']='veryhigh'\n",
        "newDf[\"PM10_deiktis\"]= newDf[['LOW1','LOW2','LOW3','MOD1','MOD2','MOD3','HIGH1','HIGH2','HIGH3','VERYHIGH']].apply(lambda x: ''.join(x.dropna().astype(str)),axis=1)\n"
      ],
      "execution_count": 14,
      "outputs": []
    },
    {
      "cell_type": "code",
      "metadata": {
        "colab": {
          "base_uri": "https://localhost:8080/"
        },
        "id": "f7LBDHv5FROr",
        "outputId": "1a1dbd01-b92e-4f15-c6c1-034c2fb8756b"
      },
      "source": [
        "pd.set_option('display.max_columns', None)\n",
        "print(newDf)"
      ],
      "execution_count": 15,
      "outputs": [
        {
          "output_type": "stream",
          "text": [
            "     hours days months WindDirection   WS  PM10 PM10_deiktis  LOW1  LOW2  \\\n",
            "0       01    1      4            SE  1.4  39.0         low3   NaN   NaN   \n",
            "1       02    1      4             S  1.2  40.0         low3   NaN   NaN   \n",
            "2       03    1      4             S  1.1  32.0         low2   NaN  low2   \n",
            "3       04    1      4            SW  0.5  20.0         low2   NaN  low2   \n",
            "4       05    1      4            NE  0.8  11.0         low1  low1   NaN   \n",
            "...    ...  ...    ...           ...  ...   ...          ...   ...   ...   \n",
            "7747    20    2      9             N  1.9   2.0         low1  low1   NaN   \n",
            "7748    21    2      9            NE  1.4   2.0         low1  low1   NaN   \n",
            "7749    22    2      9            SE  1.2   4.0         low1  low1   NaN   \n",
            "7750    23    2      9            NE  0.8  17.0         low2   NaN  low2   \n",
            "7751    00    2      9            SW  0.4  19.0         low2   NaN  low2   \n",
            "\n",
            "      LOW3 MOD1 MOD2 MOD3 HIGH1 HIGH2 HIGH3 VERYHIGH  \n",
            "0     low3  NaN  NaN  NaN   NaN   NaN   NaN      NaN  \n",
            "1     low3  NaN  NaN  NaN   NaN   NaN   NaN      NaN  \n",
            "2      NaN  NaN  NaN  NaN   NaN   NaN   NaN      NaN  \n",
            "3      NaN  NaN  NaN  NaN   NaN   NaN   NaN      NaN  \n",
            "4      NaN  NaN  NaN  NaN   NaN   NaN   NaN      NaN  \n",
            "...    ...  ...  ...  ...   ...   ...   ...      ...  \n",
            "7747   NaN  NaN  NaN  NaN   NaN   NaN   NaN      NaN  \n",
            "7748   NaN  NaN  NaN  NaN   NaN   NaN   NaN      NaN  \n",
            "7749   NaN  NaN  NaN  NaN   NaN   NaN   NaN      NaN  \n",
            "7750   NaN  NaN  NaN  NaN   NaN   NaN   NaN      NaN  \n",
            "7751   NaN  NaN  NaN  NaN   NaN   NaN   NaN      NaN  \n",
            "\n",
            "[7752 rows x 17 columns]\n"
          ],
          "name": "stdout"
        }
      ]
    },
    {
      "cell_type": "markdown",
      "metadata": {
        "id": "BoMMT17mtsBw"
      },
      "source": [
        "##Encoding categorical data"
      ]
    },
    {
      "cell_type": "code",
      "metadata": {
        "colab": {
          "base_uri": "https://localhost:8080/"
        },
        "id": "SWeGE1IxHXcN",
        "outputId": "2024fa48-58b9-4918-8bf5-cb8c73a5a3ea"
      },
      "source": [
        "# indepedent variables(predictor variables) (1->N  2->NE  3->NW  4->S   5->SE  6->SW   7->W  8->E) TO 0 exei tis nan times\n",
        "from sklearn.compose import ColumnTransformer\n",
        "from sklearn.preprocessing import OneHotEncoder\n",
        "\n",
        "ct = ColumnTransformer(transformers=[('encoder', OneHotEncoder(), [3])], remainder='passthrough')\n",
        "categorical_data = np.array(ct.fit_transform(newDf))\n",
        "print(categorical_data)\n",
        "categorical_data=pd.DataFrame(categorical_data)                                #isws xreiastei na dwsw column names\n",
        "categorical_data=categorical_data.rename(columns={13:\"PM10\"})                  #den allazw ta columns names twn 9:\"datetime\",10:\"WS\" giati exw thema sto standardisation \n",
        "categorical_data = categorical_data.astype({0:'category',1:'category',2:'category',3:'category',4:'category',\n",
        "                                            5:'category',6:'category',7:'category',8:'category',9:'category',10:'float64','PM10':'float64'}) #kanw float tis times tis sthlhs 10 poy einai to WIND SPEED\n",
        "categorical_data=categorical_data.drop(0,axis=1)"
      ],
      "execution_count": 16,
      "outputs": [
        {
          "output_type": "stream",
          "text": [
            "[[0.0 0.0 0.0 ... nan nan nan]\n",
            " [0.0 0.0 0.0 ... nan nan nan]\n",
            " [0.0 0.0 0.0 ... nan nan nan]\n",
            " ...\n",
            " [0.0 0.0 0.0 ... nan nan nan]\n",
            " [0.0 0.0 1.0 ... nan nan nan]\n",
            " [0.0 0.0 0.0 ... nan nan nan]]\n"
          ],
          "name": "stdout"
        }
      ]
    },
    {
      "cell_type": "markdown",
      "metadata": {
        "id": "R8Em6FTNx6mG"
      },
      "source": [
        "Import data in the data box for the utilization rate of the electricity generation units"
      ]
    },
    {
      "cell_type": "code",
      "metadata": {
        "id": "aTUZ0Axnx9kD"
      },
      "source": [
        "#vazw sto DataFrame stoixeia gia ton syntelesti xrhsimopoihshs twn monadwn paragwghs energeias\n",
        "categorical_data=categorical_data.astype({11:'float64'})\n",
        "categorical_data.loc[(categorical_data[11]== 1, 'Jan')]= 65\n",
        "categorical_data.loc[(categorical_data[11]== 2, 'Feb')]= 54.3\n",
        "categorical_data.loc[(categorical_data[11]== 3, 'Mar')]= 58.3\n",
        "categorical_data.loc[(categorical_data[11]== 4, 'Apr')]= 43.5\n",
        "categorical_data.loc[(categorical_data[11]== 5, 'May')]= 51.4\n",
        "categorical_data.loc[(categorical_data[11]== 6, 'Jun')]= 55.3\n",
        "categorical_data.loc[(categorical_data[11]== 7, 'Jul')]= 79\n",
        "categorical_data.loc[(categorical_data[11]== 8, 'Aug')]= 64.2\n",
        "categorical_data.loc[(categorical_data[11]== 9, 'Sep')]= 64.6\n",
        "categorical_data.loc[(categorical_data[11]== 10, 'Oct')]= 49.5\n",
        "categorical_data.loc[(categorical_data[11]== 11, 'Nov')]= 58.3\n",
        "categorical_data.loc[(categorical_data[11]== 12, 'Dec')]= 60.2\n",
        "categorical_data[\"Syntelestis Xrhsimopoihshs\"]=categorical_data[['Jan','Feb','Mar','Apr','May','Jun','Jul','Aug','Sep','Oct','Nov','Dec']].apply(lambda x: ''.join(x.dropna().astype(str)),axis=1)\n"
      ],
      "execution_count": 17,
      "outputs": []
    },
    {
      "cell_type": "code",
      "metadata": {
        "colab": {
          "base_uri": "https://localhost:8080/"
        },
        "id": "_N9kNM8uzlVt",
        "outputId": "45bfeb1e-6514-4756-deb5-eea4dbf57a7c"
      },
      "source": [
        "print(categorical_data)"
      ],
      "execution_count": 18,
      "outputs": [
        {
          "output_type": "stream",
          "text": [
            "        1    2    3    4    5    6    7    8   9   10   11   12  PM10    14  \\\n",
            "0     0.0  0.0  0.0  0.0  1.0  0.0  0.0  0.0  01  1.0  4.0  1.4  39.0  low3   \n",
            "1     0.0  0.0  0.0  1.0  0.0  0.0  0.0  0.0  02  1.0  4.0  1.2  40.0  low3   \n",
            "2     0.0  0.0  0.0  1.0  0.0  0.0  0.0  0.0  03  1.0  4.0  1.1  32.0  low2   \n",
            "3     0.0  0.0  0.0  0.0  0.0  1.0  0.0  0.0  04  1.0  4.0  0.5  20.0  low2   \n",
            "4     0.0  1.0  0.0  0.0  0.0  0.0  0.0  0.0  05  1.0  4.0  0.8  11.0  low1   \n",
            "...   ...  ...  ...  ...  ...  ...  ...  ...  ..  ...  ...  ...   ...   ...   \n",
            "7747  1.0  0.0  0.0  0.0  0.0  0.0  0.0  0.0  20  2.0  9.0  1.9   2.0  low1   \n",
            "7748  0.0  1.0  0.0  0.0  0.0  0.0  0.0  0.0  21  2.0  9.0  1.4   2.0  low1   \n",
            "7749  0.0  0.0  0.0  0.0  1.0  0.0  0.0  0.0  22  2.0  9.0  1.2   4.0  low1   \n",
            "7750  0.0  1.0  0.0  0.0  0.0  0.0  0.0  0.0  23  2.0  9.0  0.8  17.0  low2   \n",
            "7751  0.0  0.0  0.0  0.0  0.0  1.0  0.0  0.0  00  2.0  9.0  0.4  19.0  low2   \n",
            "\n",
            "        15    16    17   18   19   20   21   22   23   24  Jan  Feb  Mar  \\\n",
            "0      NaN   NaN  low3  NaN  NaN  NaN  NaN  NaN  NaN  NaN  NaN  NaN  NaN   \n",
            "1      NaN   NaN  low3  NaN  NaN  NaN  NaN  NaN  NaN  NaN  NaN  NaN  NaN   \n",
            "2      NaN  low2   NaN  NaN  NaN  NaN  NaN  NaN  NaN  NaN  NaN  NaN  NaN   \n",
            "3      NaN  low2   NaN  NaN  NaN  NaN  NaN  NaN  NaN  NaN  NaN  NaN  NaN   \n",
            "4     low1   NaN   NaN  NaN  NaN  NaN  NaN  NaN  NaN  NaN  NaN  NaN  NaN   \n",
            "...    ...   ...   ...  ...  ...  ...  ...  ...  ...  ...  ...  ...  ...   \n",
            "7747  low1   NaN   NaN  NaN  NaN  NaN  NaN  NaN  NaN  NaN  NaN  NaN  NaN   \n",
            "7748  low1   NaN   NaN  NaN  NaN  NaN  NaN  NaN  NaN  NaN  NaN  NaN  NaN   \n",
            "7749  low1   NaN   NaN  NaN  NaN  NaN  NaN  NaN  NaN  NaN  NaN  NaN  NaN   \n",
            "7750   NaN  low2   NaN  NaN  NaN  NaN  NaN  NaN  NaN  NaN  NaN  NaN  NaN   \n",
            "7751   NaN  low2   NaN  NaN  NaN  NaN  NaN  NaN  NaN  NaN  NaN  NaN  NaN   \n",
            "\n",
            "       Apr  May  Jun  Jul  Aug   Sep  Oct  Nov  Dec Syntelestis Xrhsimopoihshs  \n",
            "0     43.5  NaN  NaN  NaN  NaN   NaN  NaN  NaN  NaN                       43.5  \n",
            "1     43.5  NaN  NaN  NaN  NaN   NaN  NaN  NaN  NaN                       43.5  \n",
            "2     43.5  NaN  NaN  NaN  NaN   NaN  NaN  NaN  NaN                       43.5  \n",
            "3     43.5  NaN  NaN  NaN  NaN   NaN  NaN  NaN  NaN                       43.5  \n",
            "4     43.5  NaN  NaN  NaN  NaN   NaN  NaN  NaN  NaN                       43.5  \n",
            "...    ...  ...  ...  ...  ...   ...  ...  ...  ...                        ...  \n",
            "7747   NaN  NaN  NaN  NaN  NaN  64.6  NaN  NaN  NaN                       64.6  \n",
            "7748   NaN  NaN  NaN  NaN  NaN  64.6  NaN  NaN  NaN                       64.6  \n",
            "7749   NaN  NaN  NaN  NaN  NaN  64.6  NaN  NaN  NaN                       64.6  \n",
            "7750   NaN  NaN  NaN  NaN  NaN  64.6  NaN  NaN  NaN                       64.6  \n",
            "7751   NaN  NaN  NaN  NaN  NaN  64.6  NaN  NaN  NaN                       64.6  \n",
            "\n",
            "[7752 rows x 37 columns]\n"
          ],
          "name": "stdout"
        }
      ]
    },
    {
      "cell_type": "code",
      "metadata": {
        "id": "zF1piUeGHxwS"
      },
      "source": [
        "categorical_data=categorical_data[[1,2,3,4,5,6,7,8,9,10,11,12,'PM10',14,'Syntelestis Xrhsimopoihshs']]\n",
        "categorical_data=categorical_data.astype({9: 'float64'})\n",
        "categorical_data=categorical_data.astype({12:'float64'})\n",
        "categorical_data=categorical_data.rename(columns={9:'hours',10:'days',11:'months',12:'WS',14:'PM10_deiktis','Syntelestis Xrhsimopoihshs':'Synt Xrhs'})"
      ],
      "execution_count": 19,
      "outputs": []
    },
    {
      "cell_type": "markdown",
      "metadata": {
        "id": "gvs1cfIfzskX"
      },
      "source": [
        "## Correlation matrix"
      ]
    },
    {
      "cell_type": "code",
      "metadata": {
        "id": "tAtJYde5zzRS",
        "colab": {
          "base_uri": "https://localhost:8080/",
          "height": 405
        },
        "outputId": "5ee83d1c-dfbc-411c-bb01-cb300a7a0fa5"
      },
      "source": [
        "print('Correlation matrix\\n',categorical_data.corr())\n",
        "sns.set()\n",
        "correlation_data = categorical_data[['hours', 'days', 'months', 'WS','PM10_deiktis','Synt Xrhs']]\n",
        "sns.heatmap(correlation_data.corr(),cmap=plt.cm.Reds,annot=True)\n",
        "plt.title('Heatmap displaying the correlation matrix of the variables',fontsize=16)\n",
        "plt.show()\n",
        "categorical_data=categorical_data.drop('PM10',axis=1)"
      ],
      "execution_count": 20,
      "outputs": [
        {
          "output_type": "stream",
          "text": [
            "Correlation matrix\n",
            "                hours          days        months        WS      PM10\n",
            "hours   1.000000e+00  1.209357e-19 -1.203850e-17  0.133139 -0.048743\n",
            "days    1.209357e-19  1.000000e+00  1.381384e-03 -0.021217  0.064719\n",
            "months -1.203850e-17  1.381384e-03  1.000000e+00 -0.132065  0.061979\n",
            "WS      1.331390e-01 -2.121665e-02 -1.320651e-01  1.000000 -0.251283\n",
            "PM10   -4.874343e-02  6.471936e-02  6.197917e-02 -0.251283  1.000000\n"
          ],
          "name": "stdout"
        },
        {
          "output_type": "display_data",
          "data": {
            "image/png": "[encoded data removed]",
            "text/plain": [
              "<Figure size 432x288 with 2 Axes>"
            ]
          },
          "metadata": {
            "tags": []
          }
        }
      ]
    },
    {
      "cell_type": "markdown",
      "metadata": {
        "id": "YuvDons70DZJ"
      },
      "source": [
        "# Splitting the dataset into the Training set and Test set"
      ]
    },
    {
      "cell_type": "code",
      "metadata": {
        "id": "rpjZdghI0IBf"
      },
      "source": [
        "X= categorical_data.drop('PM10_deiktis',axis=1)                                #indepedent variable\n",
        "#reset to characters\n",
        "categorical_data.loc[(categorical_data['PM10_deiktis'] == 'low1'),'LOW1']= 1\n",
        "categorical_data.loc[(categorical_data['PM10_deiktis'] == 'low2'),'LOW2']=2\n",
        "categorical_data.loc[(categorical_data['PM10_deiktis'] == 'low3'),'LOW3']=3\n",
        "categorical_data.loc[(categorical_data['PM10_deiktis'] == 'mod1'),'MOD1']=4\n",
        "categorical_data.loc[(categorical_data['PM10_deiktis'] == 'mod2'),'MOD2']=5\n",
        "categorical_data.loc[(categorical_data['PM10_deiktis'] == 'mod3'),'MOD3']=6\n",
        "categorical_data.loc[(categorical_data['PM10_deiktis'] == 'high1'),'HIGH1']=7\n",
        "categorical_data.loc[(categorical_data['PM10_deiktis'] == 'high2'),'HIGH2']=8\n",
        "categorical_data.loc[(categorical_data['PM10_deiktis'] == 'high3'),'HIGH3']=9\n",
        "categorical_data.loc[(categorical_data['PM10_deiktis'] == 'veryhigh'),'VERYHIGH']=10\n",
        "\n",
        "categorical_data[\"PM10_deiktis\"]= categorical_data[['LOW1','LOW2','LOW3','MOD1','MOD2','MOD3','HIGH1','HIGH2','HIGH3','VERYHIGH']].apply(lambda x: ''.join(x.dropna().astype(int).astype(str)),axis=1)\n",
        "y=categorical_data['PM10_deiktis'] \n",
        "\n",
        "from sklearn.model_selection import train_test_split\n",
        "X_train, X_test, y_train, y_test = train_test_split(X, y, test_size = 0.25, random_state = 1)"
      ],
      "execution_count": 21,
      "outputs": []
    },
    {
      "cell_type": "code",
      "metadata": {
        "colab": {
          "base_uri": "https://localhost:8080/"
        },
        "id": "2sHir6z2IZjR",
        "outputId": "30c39397-15cf-4664-f505-890fccd417ef"
      },
      "source": [
        "print(X,\"\\n\\n\",y)"
      ],
      "execution_count": 22,
      "outputs": [
        {
          "output_type": "stream",
          "text": [
            "        1    2    3    4    5    6    7    8  hours  days  months   WS  \\\n",
            "0     0.0  0.0  0.0  0.0  1.0  0.0  0.0  0.0    1.0   1.0     4.0  1.4   \n",
            "1     0.0  0.0  0.0  1.0  0.0  0.0  0.0  0.0    2.0   1.0     4.0  1.2   \n",
            "2     0.0  0.0  0.0  1.0  0.0  0.0  0.0  0.0    3.0   1.0     4.0  1.1   \n",
            "3     0.0  0.0  0.0  0.0  0.0  1.0  0.0  0.0    4.0   1.0     4.0  0.5   \n",
            "4     0.0  1.0  0.0  0.0  0.0  0.0  0.0  0.0    5.0   1.0     4.0  0.8   \n",
            "...   ...  ...  ...  ...  ...  ...  ...  ...    ...   ...     ...  ...   \n",
            "7747  1.0  0.0  0.0  0.0  0.0  0.0  0.0  0.0   20.0   2.0     9.0  1.9   \n",
            "7748  0.0  1.0  0.0  0.0  0.0  0.0  0.0  0.0   21.0   2.0     9.0  1.4   \n",
            "7749  0.0  0.0  0.0  0.0  1.0  0.0  0.0  0.0   22.0   2.0     9.0  1.2   \n",
            "7750  0.0  1.0  0.0  0.0  0.0  0.0  0.0  0.0   23.0   2.0     9.0  0.8   \n",
            "7751  0.0  0.0  0.0  0.0  0.0  1.0  0.0  0.0    0.0   2.0     9.0  0.4   \n",
            "\n",
            "     Synt Xrhs  \n",
            "0         43.5  \n",
            "1         43.5  \n",
            "2         43.5  \n",
            "3         43.5  \n",
            "4         43.5  \n",
            "...        ...  \n",
            "7747      64.6  \n",
            "7748      64.6  \n",
            "7749      64.6  \n",
            "7750      64.6  \n",
            "7751      64.6  \n",
            "\n",
            "[7752 rows x 13 columns] \n",
            "\n",
            " 0       3\n",
            "1       3\n",
            "2       2\n",
            "3       2\n",
            "4       1\n",
            "       ..\n",
            "7747    1\n",
            "7748    1\n",
            "7749    1\n",
            "7750    2\n",
            "7751    2\n",
            "Name: PM10_deiktis, Length: 7752, dtype: object\n"
          ],
          "name": "stdout"
        }
      ]
    },
    {
      "cell_type": "markdown",
      "metadata": {
        "id": "SY5sENv90kEg"
      },
      "source": [
        "# Feature Scaling"
      ]
    },
    {
      "cell_type": "code",
      "metadata": {
        "id": "kUYbPhYl0sZ8"
      },
      "source": [
        "from sklearn.preprocessing import StandardScaler\n",
        "sc = StandardScaler()                                                           #standardisation\n",
        "colNumber=8                                                                    \n",
        "X_train.iloc[:, colNumber:] = sc.fit_transform(X_train.iloc[:, colNumber:].values)#Me tin fit_transform upologizw tin mesi timi kai tin tupiki apoklisi \n",
        "X_test.iloc[:, colNumber:] = sc.transform(X_test.iloc[:, colNumber:].values)"
      ],
      "execution_count": 23,
      "outputs": []
    },
    {
      "cell_type": "markdown",
      "metadata": {
        "id": "ruZ8JL2N2M7Z"
      },
      "source": [
        "\n",
        "# Model Training"
      ]
    },
    {
      "cell_type": "markdown",
      "metadata": {
        "id": "FnV9TUkF3OhY"
      },
      "source": [
        "##As classification problem"
      ]
    },
    {
      "cell_type": "code",
      "metadata": {
        "id": "kpf3QzvYJKLK"
      },
      "source": [
        "from sklearn.metrics import r2_score,mean_squared_error\n",
        "accuracyScores=[]\n",
        "accuracyScores2=[]"
      ],
      "execution_count": 24,
      "outputs": []
    },
    {
      "cell_type": "markdown",
      "metadata": {
        "id": "wp7L2iYgJV8Q"
      },
      "source": [
        "#####SVM"
      ]
    },
    {
      "cell_type": "code",
      "metadata": {
        "colab": {
          "base_uri": "https://localhost:8080/"
        },
        "id": "oHsRs553JYsG",
        "outputId": "17320f3a-88ff-420c-f29c-278286b02869"
      },
      "source": [
        "print('\\n----------- SVM ------------')\n",
        "from sklearn.svm import SVC\n",
        "classifier = SVC(kernel = 'linear', random_state = 0)\n",
        "classifier.fit(X_train,y_train)\n",
        "y_pred8 = classifier.predict(X_test)\n",
        "from sklearn.metrics import confusion_matrix, accuracy_score\n",
        "cm = confusion_matrix(y_test, y_pred8)\n",
        "print('Score on train data: {}'.format(classifier.score(X_train,y_train)))\n",
        "print('Score on test data: {}\\n'.format(classifier.score(X_test,y_test)))\n",
        "accuracy =accuracy_score(y_test,y_pred8)\n",
        "print('Overall model accuracy: {}'.format(accuracy))\n",
        "accuracyScores.append(accuracy)"
      ],
      "execution_count": 25,
      "outputs": [
        {
          "output_type": "stream",
          "text": [
            "\n",
            "----------- SVM ------------\n",
            "Score on train data: 0.499312005503956\n",
            "Score on test data: 0.49948400412796695\n",
            "\n",
            "Overall model accuracy: 0.49948400412796695\n"
          ],
          "name": "stdout"
        }
      ]
    },
    {
      "cell_type": "markdown",
      "metadata": {
        "id": "KmNV2JzKJr_8"
      },
      "source": [
        "#####SVM Kernel"
      ]
    },
    {
      "cell_type": "code",
      "metadata": {
        "colab": {
          "base_uri": "https://localhost:8080/"
        },
        "id": "ycGqJO7wJzkc",
        "outputId": "8e627b98-8364-4ae8-dd0e-932239409573"
      },
      "source": [
        "print('\\n----------- SVM Kernel ------------')\n",
        "classifierKernel = SVC(kernel = 'rbf', random_state = 0)\n",
        "classifierKernel.fit(X_train, y_train)\n",
        "print('Score on train data: {}'.format(classifierKernel.score(X_train,y_train)))\n",
        "print('Score on test data: {}\\n'.format(classifierKernel.score(X_test,y_test)))\n",
        "y_pred7 = classifierKernel.predict(X_test)\n",
        "accuracy = accuracy_score(y_test,y_pred7)\n",
        "print('Overall model accuracy: {}'.format(accuracy))\n",
        "accuracyScores.append(accuracy)"
      ],
      "execution_count": 26,
      "outputs": [
        {
          "output_type": "stream",
          "text": [
            "\n",
            "----------- SVM Kernel ------------\n",
            "Score on train data: 0.6609907120743034\n",
            "Score on test data: 0.6346749226006192\n",
            "\n",
            "Overall model accuracy: 0.6346749226006192\n"
          ],
          "name": "stdout"
        }
      ]
    },
    {
      "cell_type": "markdown",
      "metadata": {
        "id": "31BPmuyzJ3f1"
      },
      "source": [
        "#####Gaussian Naive bayes"
      ]
    },
    {
      "cell_type": "code",
      "metadata": {
        "colab": {
          "base_uri": "https://localhost:8080/"
        },
        "id": "2yy8wjxFJ9vM",
        "outputId": "afbc50bb-6811-436b-ed4c-d6267000953e"
      },
      "source": [
        "from sklearn.naive_bayes import GaussianNB\n",
        "classifierNB = GaussianNB()\n",
        "classifierNB.fit(X_train, y_train)\n",
        "print('Score on train data: {}'.format(classifierNB.score(X_train,y_train)))\n",
        "print('Score on test data: {}\\n'.format(classifierNB.score(X_test,y_test)))\n",
        "y_pred6 = classifierNB.predict(X_test)\n",
        "accuracy = accuracy_score(y_test,y_pred6)\n",
        "print('Overall model accuracy: {}'.format(accuracy))\n",
        "accuracyScores.append(accuracy)"
      ],
      "execution_count": 27,
      "outputs": [
        {
          "output_type": "stream",
          "text": [
            "Score on train data: 0.06793945648434813\n",
            "Score on test data: 0.058823529411764705\n",
            "\n",
            "Overall model accuracy: 0.058823529411764705\n"
          ],
          "name": "stdout"
        }
      ]
    },
    {
      "cell_type": "markdown",
      "metadata": {
        "id": "TGxzYZlPKBCv"
      },
      "source": [
        "#####K-NN"
      ]
    },
    {
      "cell_type": "code",
      "metadata": {
        "colab": {
          "base_uri": "https://localhost:8080/"
        },
        "id": "MmZ4VGVtKFsa",
        "outputId": "69494550-9711-4303-9cf4-f388e86829ac"
      },
      "source": [
        "from sklearn.neighbors import KNeighborsClassifier\n",
        "classifierKNN = KNeighborsClassifier(n_neighbors = 5, metric = 'minkowski', p = 2)\n",
        "classifierKNN.fit(X_train, y_train)\n",
        "print('Score on train data: {}'.format(classifierKNN.score(X_train,y_train)))\n",
        "print('Score on test data: {}\\n'.format(classifierKNN.score(X_test,y_test)))\n",
        "y_pred5 = classifierKNN.predict(X_test)\n",
        "accuracy = accuracy_score(y_test,y_pred5)\n",
        "print('Overall model accuracy: {}'.format(accuracy))\n",
        "accuracyScores.append(accuracy)"
      ],
      "execution_count": 28,
      "outputs": [
        {
          "output_type": "stream",
          "text": [
            "Score on train data: 0.7707258341933264\n",
            "Score on test data: 0.6604747162022704\n",
            "\n",
            "Overall model accuracy: 0.6604747162022704\n"
          ],
          "name": "stdout"
        }
      ]
    },
    {
      "cell_type": "markdown",
      "metadata": {
        "id": "b93y0fVgKyk1"
      },
      "source": [
        "#####Logistic Regression"
      ]
    },
    {
      "cell_type": "code",
      "metadata": {
        "colab": {
          "base_uri": "https://localhost:8080/"
        },
        "id": "Ws0cVtk8K4b3",
        "outputId": "b4850f9c-2553-46d3-cb32-89a3e0fb92a2"
      },
      "source": [
        "from sklearn.linear_model import LogisticRegression\n",
        "classifierLR = LogisticRegression(random_state = 0)\n",
        "classifierLR.fit(X_train, y_train)\n",
        "print('Score on train data: {}'.format(classifierLR.score(X_train,y_train)))\n",
        "print('Score on test data: {}\\n'.format(classifierLR.score(X_test,y_test)))\n",
        "y_pred4 = classifierLR.predict(X_test)\n",
        "accuracy = accuracy_score(y_test,y_pred4)\n",
        "print('Overall model accuracy: {}'.format(accuracy))\n",
        "accuracyScores.append(accuracy)"
      ],
      "execution_count": 29,
      "outputs": [
        {
          "output_type": "stream",
          "text": [
            "Score on train data: 0.5075679394564844\n",
            "Score on test data: 0.5128998968008256\n",
            "\n",
            "Overall model accuracy: 0.5128998968008256\n"
          ],
          "name": "stdout"
        }
      ]
    },
    {
      "cell_type": "markdown",
      "metadata": {
        "id": "J-oCSsJoLIPI"
      },
      "source": [
        "#####Decision Tree"
      ]
    },
    {
      "cell_type": "code",
      "metadata": {
        "colab": {
          "base_uri": "https://localhost:8080/"
        },
        "id": "AZx0z1WILL49",
        "outputId": "4399d2d4-42b1-49ae-ffc0-5f4b1d9e5d1f"
      },
      "source": [
        "from sklearn.tree import DecisionTreeClassifier\n",
        "classifierDT = DecisionTreeClassifier(criterion = 'entropy', random_state = 0)\n",
        "classifierDT.fit(X_train, y_train)\n",
        "print('Score on train data: {}'.format(classifierDT.score(X_train,y_train)))\n",
        "print('Score on test data: {}\\n'.format(classifierDT.score(X_test,y_test)))\n",
        "y_pred3 = classifierDT.predict(X_test)\n",
        "accuracy =accuracy_score(y_test,y_pred3)\n",
        "print('Overall model accuracy: {}'.format(accuracy))\n",
        "accuracyScores.append(accuracy)"
      ],
      "execution_count": 30,
      "outputs": [
        {
          "output_type": "stream",
          "text": [
            "Score on train data: 1.0\n",
            "Score on test data: 0.7291021671826625\n",
            "\n",
            "Overall model accuracy: 0.7291021671826625\n"
          ],
          "name": "stdout"
        }
      ]
    },
    {
      "cell_type": "markdown",
      "metadata": {
        "id": "kDib6fVvLO95"
      },
      "source": [
        "#####Decision tree grid search"
      ]
    },
    {
      "cell_type": "code",
      "metadata": {
        "colab": {
          "base_uri": "https://localhost:8080/",
          "height": 187
        },
        "id": "97__E34KLaA-",
        "outputId": "03a7ccc8-cc02-4518-a0dc-45d3a479cccc"
      },
      "source": [
        "print('\\n----------- Decision Tree Grid Search ------------')\n",
        "from sklearn.model_selection import GridSearchCV,train_test_split\n",
        "params = {'max_depth':[3,4,5,6,7],\n",
        "         'max_features':['auto','sqrt','log2'],\n",
        "         'min_samples_split':[2,3,4,5,6,7,8,9,10],\n",
        "         'min_samples_leaf':[2,3,4,5,6,7,8,9,10]}\n",
        "tree = DecisionTreeClassifier()\n",
        "tree_search = GridSearchCV(tree,param_grid=params,n_jobs=-1,cv=5)\n",
        "tree_search.fit(X_train,y_train)\n",
        "print('Score on train data: {}'.format(tree_search.score(X_train,y_train)))\n",
        "print('Score on test data: {}'.format(tree_search.score(X_test,y_test)))\n",
        "print('Best parameters found:')\n",
        "display(tree_search.best_params_)\n",
        "tree_search_pred = tree_search.predict(X_test)\n",
        "tree_search_accuracy = accuracy_score(y_test,tree_search_pred)\n",
        "print('Overall model accuracy: {}'.format(tree_search_accuracy))"
      ],
      "execution_count": 31,
      "outputs": [
        {
          "output_type": "stream",
          "text": [
            "\n",
            "----------- Decision Tree Grid Search ------------\n",
            "Score on train data: 0.5975232198142415\n",
            "Score on test data: 0.5732714138286894\n",
            "Best parameters found:\n"
          ],
          "name": "stdout"
        },
        {
          "output_type": "display_data",
          "data": {
            "text/plain": [
              "{'max_depth': 7,\n",
              " 'max_features': 'sqrt',\n",
              " 'min_samples_leaf': 9,\n",
              " 'min_samples_split': 7}"
            ]
          },
          "metadata": {
            "tags": []
          }
        },
        {
          "output_type": "stream",
          "text": [
            "Overall model accuracy: 0.5732714138286894\n"
          ],
          "name": "stdout"
        }
      ]
    },
    {
      "cell_type": "markdown",
      "metadata": {
        "id": "kxvWA1T4LhMp"
      },
      "source": [
        "#####Random Forest"
      ]
    },
    {
      "cell_type": "code",
      "metadata": {
        "colab": {
          "base_uri": "https://localhost:8080/"
        },
        "id": "yaW5tQaULkuT",
        "outputId": "4b5b5e52-d574-4fe8-b4d3-8404dea50ebf"
      },
      "source": [
        "from sklearn.ensemble import RandomForestClassifier\n",
        "classifierRF = RandomForestClassifier(n_estimators = 1000, criterion = 'entropy', random_state = 0)\n",
        "classifierRF.fit(X_train, y_train)\n",
        "print('Score on train data: {}'.format(classifierRF.score(X_train,y_train)))\n",
        "print('Score on test data: {}\\n'.format(classifierRF.score(X_test,y_test)))\n",
        "y_pred2 = classifierRF.predict(X_test)\n",
        "accuracy = accuracy_score(y_test,y_pred2)\n",
        "print('Overall model accuracy: {}'.format(accuracy))\n",
        "accuracyScores.append(accuracy)"
      ],
      "execution_count": 32,
      "outputs": [
        {
          "output_type": "stream",
          "text": [
            "Score on train data: 1.0\n",
            "Score on test data: 0.7512899896800825\n",
            "\n",
            "Overall model accuracy: 0.7512899896800825\n"
          ],
          "name": "stdout"
        }
      ]
    },
    {
      "cell_type": "markdown",
      "metadata": {
        "id": "5HI-rpaHLpZe"
      },
      "source": [
        "#####MLP"
      ]
    },
    {
      "cell_type": "code",
      "metadata": {
        "colab": {
          "base_uri": "https://localhost:8080/"
        },
        "id": "yEVaZuIsLtKe",
        "outputId": "d43e931a-c7a0-49db-a405-93c7f934483e"
      },
      "source": [
        "from sklearn.neural_network import MLPClassifier\n",
        "clfMLP = MLPClassifier(solver='lbfgs', alpha=1e-5, hidden_layer_sizes=(5, 2), random_state=1)\n",
        "clfMLP.fit(X_train, y_train)\n",
        "print('Score on train data: {}'.format(clfMLP.score(X_train,y_train)))\n",
        "print('Score on test data: {}\\n'.format(clfMLP.score(X_test,y_test)))\n",
        "y_pred2 = clfMLP.predict(X_test)\n",
        "accuracy = accuracy_score(y_test,y_pred2)\n",
        "print('Overall model accuracy: {}'.format(accuracy))\n",
        "accuracyScores.append(accuracy)\n",
        "print('Parameters currently in use:\\n')\n",
        "print(clfMLP.get_params())"
      ],
      "execution_count": 33,
      "outputs": [
        {
          "output_type": "stream",
          "text": [
            "Score on train data: 0.6200550395596836\n",
            "Score on test data: 0.6222910216718266\n",
            "\n",
            "Overall model accuracy: 0.6222910216718266\n",
            "Parameters currently in use:\n",
            "\n",
            "{'activation': 'relu', 'alpha': 1e-05, 'batch_size': 'auto', 'beta_1': 0.9, 'beta_2': 0.999, 'early_stopping': False, 'epsilon': 1e-08, 'hidden_layer_sizes': (5, 2), 'learning_rate': 'constant', 'learning_rate_init': 0.001, 'max_fun': 15000, 'max_iter': 200, 'momentum': 0.9, 'n_iter_no_change': 10, 'nesterovs_momentum': True, 'power_t': 0.5, 'random_state': 1, 'shuffle': True, 'solver': 'lbfgs', 'tol': 0.0001, 'validation_fraction': 0.1, 'verbose': False, 'warm_start': False}\n"
          ],
          "name": "stdout"
        }
      ]
    },
    {
      "cell_type": "markdown",
      "metadata": {
        "id": "P3F4u5dILxi5"
      },
      "source": [
        "#####Gradient Boosting Classifier"
      ]
    },
    {
      "cell_type": "code",
      "metadata": {
        "colab": {
          "base_uri": "https://localhost:8080/"
        },
        "id": "Ju1cxbwQL2aH",
        "outputId": "00fec8af-ce68-4759-bbe2-1f31953a9f24"
      },
      "source": [
        "from sklearn.ensemble import GradientBoostingClassifier\n",
        "clf = GradientBoostingClassifier(n_estimators=100, learning_rate=1,\n",
        "                                 max_depth=1, random_state=0).fit(X_train, y_train)\n",
        "clf.fit(X_train, y_train)\n",
        "print('Score on train data: {}'.format(clf.score(X_train,y_train)))\n",
        "print('Score on test data: {}\\n'.format(clf.score(X_test,y_test)))\n",
        "y_pred1 = clf.predict(X_test)\n",
        "accuracy = accuracy_score(y_test,y_pred1)\n",
        "print('Overall model accuracy: {}'.format(accuracy))\n",
        "accuracyScores.append(accuracy)"
      ],
      "execution_count": 34,
      "outputs": [
        {
          "output_type": "stream",
          "text": [
            "Score on train data: 0.6193670450636395\n",
            "Score on test data: 0.586687306501548\n",
            "\n",
            "Overall model accuracy: 0.586687306501548\n"
          ],
          "name": "stdout"
        }
      ]
    },
    {
      "cell_type": "markdown",
      "metadata": {
        "id": "ShjmwZXpL9fx"
      },
      "source": [
        "#####Randomized Search CV"
      ]
    },
    {
      "cell_type": "code",
      "metadata": {
        "colab": {
          "base_uri": "https://localhost:8080/",
          "height": 462
        },
        "id": "nclKv1whMCm_",
        "outputId": "135fc7a1-5a9c-46b6-d683-2895183b2cfe"
      },
      "source": [
        "from sklearn.model_selection import RandomizedSearchCV\n",
        "params['learning_rate'] = np.linspace(0.1,0.2,10)#start,stop, num\n",
        "clf1 = GradientBoostingClassifier()\n",
        "clf = RandomizedSearchCV(clf1,params,n_jobs=-1,cv=5,verbose=2)\n",
        "clf.fit(X_train, y_train)\n",
        "print('Score on train data: {}'.format(clf.score(X_train,y_train)))\n",
        "print('Score on test data: {}\\n'.format(clf.score(X_test,y_test)))\n",
        "y_pred = clf.predict(X_test)\n",
        "accuracy = accuracy_score(y_test,y_pred)\n",
        "print('Overall model accuracy: {}'.format(accuracy))\n",
        "accuracyScores.append(accuracy)\n",
        "accuracyScores2.append(accuracy)\n",
        "print(clf.get_params())\n",
        "print('Best parameters found:')\n",
        "display(clf.best_params_)"
      ],
      "execution_count": 35,
      "outputs": [
        {
          "output_type": "stream",
          "text": [
            "Fitting 5 folds for each of 10 candidates, totalling 50 fits\n"
          ],
          "name": "stdout"
        },
        {
          "output_type": "stream",
          "text": [
            "[Parallel(n_jobs=-1)]: Using backend LokyBackend with 2 concurrent workers.\n",
            "[Parallel(n_jobs=-1)]: Done  37 tasks      | elapsed:  3.5min\n",
            "[Parallel(n_jobs=-1)]: Done  50 out of  50 | elapsed:  4.6min finished\n"
          ],
          "name": "stderr"
        },
        {
          "output_type": "stream",
          "text": [
            "Score on train data: 0.9688682490540076\n",
            "Score on test data: 0.7523219814241486\n",
            "\n",
            "Overall model accuracy: 0.7523219814241486\n",
            "{'cv': 5, 'error_score': nan, 'estimator__ccp_alpha': 0.0, 'estimator__criterion': 'friedman_mse', 'estimator__init': None, 'estimator__learning_rate': 0.1, 'estimator__loss': 'deviance', 'estimator__max_depth': 3, 'estimator__max_features': None, 'estimator__max_leaf_nodes': None, 'estimator__min_impurity_decrease': 0.0, 'estimator__min_impurity_split': None, 'estimator__min_samples_leaf': 1, 'estimator__min_samples_split': 2, 'estimator__min_weight_fraction_leaf': 0.0, 'estimator__n_estimators': 100, 'estimator__n_iter_no_change': None, 'estimator__presort': 'deprecated', 'estimator__random_state': None, 'estimator__subsample': 1.0, 'estimator__tol': 0.0001, 'estimator__validation_fraction': 0.1, 'estimator__verbose': 0, 'estimator__warm_start': False, 'estimator': GradientBoostingClassifier(ccp_alpha=0.0, criterion='friedman_mse', init=None,\n",
            "                           learning_rate=0.1, loss='deviance', max_depth=3,\n",
            "                           max_features=None, max_leaf_nodes=None,\n",
            "                           min_impurity_decrease=0.0, min_impurity_split=None,\n",
            "                           min_samples_leaf=1, min_samples_split=2,\n",
            "                           min_weight_fraction_leaf=0.0, n_estimators=100,\n",
            "                           n_iter_no_change=None, presort='deprecated',\n",
            "                           random_state=None, subsample=1.0, tol=0.0001,\n",
            "                           validation_fraction=0.1, verbose=0,\n",
            "                           warm_start=False), 'iid': 'deprecated', 'n_iter': 10, 'n_jobs': -1, 'param_distributions': {'max_depth': [3, 4, 5, 6, 7], 'max_features': ['auto', 'sqrt', 'log2'], 'min_samples_split': [2, 3, 4, 5, 6, 7, 8, 9, 10], 'min_samples_leaf': [2, 3, 4, 5, 6, 7, 8, 9, 10], 'learning_rate': array([0.1       , 0.11111111, 0.12222222, 0.13333333, 0.14444444,\n",
            "       0.15555556, 0.16666667, 0.17777778, 0.18888889, 0.2       ])}, 'pre_dispatch': '2*n_jobs', 'random_state': None, 'refit': True, 'return_train_score': False, 'scoring': None, 'verbose': 2}\n",
            "Best parameters found:\n"
          ],
          "name": "stdout"
        },
        {
          "output_type": "display_data",
          "data": {
            "text/plain": [
              "{'learning_rate': 0.1,\n",
              " 'max_depth': 7,\n",
              " 'max_features': 'auto',\n",
              " 'min_samples_leaf': 8,\n",
              " 'min_samples_split': 4}"
            ]
          },
          "metadata": {
            "tags": []
          }
        }
      ]
    },
    {
      "cell_type": "markdown",
      "metadata": {
        "id": "CBlHkLwmMRnU"
      },
      "source": [
        "###K-FOLD CROSS VALIDATION (K=10)"
      ]
    },
    {
      "cell_type": "code",
      "metadata": {
        "id": "RCawmfT_MXRn"
      },
      "source": [
        "from sklearn.model_selection import KFold\n",
        "from sklearn.preprocessing import MinMaxScaler"
      ],
      "execution_count": 36,
      "outputs": []
    },
    {
      "cell_type": "markdown",
      "metadata": {
        "id": "iuPw7LKxMzhm"
      },
      "source": [
        "#####SVM"
      ]
    },
    {
      "cell_type": "code",
      "metadata": {
        "colab": {
          "base_uri": "https://localhost:8080/"
        },
        "id": "ArfJP3VGM20O",
        "outputId": "d30a0bd4-44a6-4de4-b35b-f49882496a44"
      },
      "source": [
        "print('\\n----------- SVM ------------')\n",
        "scaler = MinMaxScaler(feature_range=(0, 1))\n",
        "X = scaler.fit_transform(X)\n",
        "\n",
        "scores = []\n",
        "best_model= SVC(kernel = 'linear', random_state = 0)\n",
        "cv = KFold(10, True,1)\n",
        "for train_index, test_index in cv.split(X):\n",
        "\n",
        "    X_train, X_test, y_train, y_test = X[train_index], X[test_index], y[train_index], y[test_index]\n",
        "    best_model.fit(X_train, y_train)\n",
        "    print('Score on test data: {}\\n'.format(best_model.score(X_test,y_test)))\n",
        "    scores.append(best_model.score(X_test, y_test))\n",
        "print(\"MESOS OROS ACCURACY: \", np.mean(scores)) \n",
        "accuracyScores2.append(np.mean(scores))"
      ],
      "execution_count": 37,
      "outputs": [
        {
          "output_type": "stream",
          "text": [
            "\n",
            "----------- SVM ------------\n",
            "Score on test data: 0.5167525773195877\n",
            "\n",
            "Score on test data: 0.48582474226804123\n",
            "\n",
            "Score on test data: 0.5135483870967742\n",
            "\n",
            "Score on test data: 0.4890322580645161\n",
            "\n",
            "Score on test data: 0.47483870967741937\n",
            "\n",
            "Score on test data: 0.48\n",
            "\n",
            "Score on test data: 0.5019354838709678\n",
            "\n",
            "Score on test data: 0.5096774193548387\n",
            "\n",
            "Score on test data: 0.4864516129032258\n",
            "\n",
            "Score on test data: 0.5187096774193548\n",
            "\n",
            "MESOS OROS ACCURACY:  0.4976770867974725\n"
          ],
          "name": "stdout"
        }
      ]
    },
    {
      "cell_type": "markdown",
      "metadata": {
        "id": "2GXtzfvPNBml"
      },
      "source": [
        "####SVM rbf"
      ]
    },
    {
      "cell_type": "code",
      "metadata": {
        "colab": {
          "base_uri": "https://localhost:8080/"
        },
        "id": "jHQfl-fTNTiz",
        "outputId": "4d79fcd4-ca44-48b4-8c7f-31b2fd33b075"
      },
      "source": [
        "scaler = MinMaxScaler(feature_range=(0, 1))\n",
        "X = scaler.fit_transform(X)\n",
        "\n",
        "scores = []\n",
        "best_model= SVC(kernel = 'rbf', random_state = 0)\n",
        "cv = KFold(10, True,1)\n",
        "for train_index, test_index in cv.split(X):\n",
        "    #print(\"Train Index: \", train_index, \"\\n\")\n",
        "    #print(\"Test Index: \", test_index)\n",
        "    X_train, X_test, y_train, y_test = X[train_index], X[test_index], y[train_index], y[test_index]\n",
        "    best_model.fit(X_train, y_train)\n",
        "    y_pred77 = best_model.predict(X_test)\n",
        "    accuracy = accuracy_score(y_test,y_pred77)\n",
        "    print('Overall model accuracy: {}'.format(accuracy))\n",
        "    print('Score on test data: {}\\n'.format(best_model.score(X_test,y_test)))\n",
        "    scores.append(best_model.score(X_test, y_test))\n",
        "print(\"MESOS OROS ACCURACY: \", np.mean(scores)) \n",
        "accuracyScores2.append(np.mean(scores))"
      ],
      "execution_count": 38,
      "outputs": [
        {
          "output_type": "stream",
          "text": [
            "Overall model accuracy: 0.5889175257731959\n",
            "Score on test data: 0.5889175257731959\n",
            "\n",
            "Overall model accuracy: 0.5850515463917526\n",
            "Score on test data: 0.5850515463917526\n",
            "\n",
            "Overall model accuracy: 0.5780645161290323\n",
            "Score on test data: 0.5780645161290323\n",
            "\n",
            "Overall model accuracy: 0.6051612903225806\n",
            "Score on test data: 0.6051612903225806\n",
            "\n",
            "Overall model accuracy: 0.5819354838709677\n",
            "Score on test data: 0.5819354838709677\n",
            "\n",
            "Overall model accuracy: 0.5987096774193549\n",
            "Score on test data: 0.5987096774193549\n",
            "\n",
            "Overall model accuracy: 0.5948387096774194\n",
            "Score on test data: 0.5948387096774194\n",
            "\n",
            "Overall model accuracy: 0.5729032258064516\n",
            "Score on test data: 0.5729032258064516\n",
            "\n",
            "Overall model accuracy: 0.5948387096774194\n",
            "Score on test data: 0.5948387096774194\n",
            "\n",
            "Overall model accuracy: 0.6051612903225806\n",
            "Score on test data: 0.6051612903225806\n",
            "\n",
            "MESOS OROS ACCURACY:  0.5905581975390756\n"
          ],
          "name": "stdout"
        }
      ]
    },
    {
      "cell_type": "markdown",
      "metadata": {
        "id": "-zVQKSg-NVsx"
      },
      "source": [
        "####Gaussian naive bayes"
      ]
    },
    {
      "cell_type": "code",
      "metadata": {
        "colab": {
          "base_uri": "https://localhost:8080/"
        },
        "id": "CE9JKoetNZUn",
        "outputId": "f9704afb-b883-4d27-ab1c-69537e48cfdd"
      },
      "source": [
        "print('\\n----------- Gaussian naive bayes ------------')\n",
        "scaler = MinMaxScaler(feature_range=(0, 1))\n",
        "X = scaler.fit_transform(X)\n",
        "scores = []\n",
        "best_model= GaussianNB()\n",
        "cv = KFold(10, True,1)\n",
        "for train_index, test_index in cv.split(X):\n",
        "    #print(\"Train Index: \", train_index, \"\\n\")\n",
        "    #print(\"Test Index: \", test_index)\n",
        "    X_train, X_test, y_train, y_test = X[train_index], X[test_index], y[train_index], y[test_index]\n",
        "    best_model.fit(X_train, y_train)\n",
        "    print('Score on test data: {}\\n'.format(best_model.score(X_test,y_test)))\n",
        "    scores.append(best_model.score(X_test, y_test))\n",
        "print(\"MESOS OROS ACCURACY: \", np.mean(scores))\n",
        "accuracyScores2.append(np.mean(scores))"
      ],
      "execution_count": 39,
      "outputs": [
        {
          "output_type": "stream",
          "text": [
            "\n",
            "----------- Gaussian naive bayes ------------\n",
            "Score on test data: 0.061855670103092786\n",
            "\n",
            "Score on test data: 0.05283505154639175\n",
            "\n",
            "Score on test data: 0.05806451612903226\n",
            "\n",
            "Score on test data: 0.12645161290322582\n",
            "\n",
            "Score on test data: 0.03741935483870968\n",
            "\n",
            "Score on test data: 0.06322580645161291\n",
            "\n",
            "Score on test data: 0.0567741935483871\n",
            "\n",
            "Score on test data: 0.07225806451612904\n",
            "\n",
            "Score on test data: 0.06580645161290323\n",
            "\n",
            "Score on test data: 0.05290322580645161\n",
            "\n",
            "MESOS OROS ACCURACY:  0.06475939474559361\n"
          ],
          "name": "stdout"
        }
      ]
    },
    {
      "cell_type": "markdown",
      "metadata": {
        "id": "Jj_V6ny7Nexm"
      },
      "source": [
        "####Logistic Regression"
      ]
    },
    {
      "cell_type": "code",
      "metadata": {
        "colab": {
          "base_uri": "https://localhost:8080/"
        },
        "id": "ZnxWygwKNn9A",
        "outputId": "28e6b29f-6b68-4c46-81d2-bc521634f653"
      },
      "source": [
        "scaler = MinMaxScaler(feature_range=(0, 1))\n",
        "X = scaler.fit_transform(X)\n",
        "scores = []\n",
        "best_model= LogisticRegression(random_state = 0)\n",
        "cv = KFold(10, True,1)\n",
        "for train_index, test_index in cv.split(X):\n",
        "    #print(\"Train Index: \", train_index, \"\\n\")\n",
        "    #print(\"Test Index: \", test_index)\n",
        "    X_train, X_test, y_train, y_test = X[train_index], X[test_index], y[train_index], y[test_index]\n",
        "    best_model.fit(X_train, y_train)\n",
        "    print('Score on test data: {}\\n'.format(best_model.score(X_test,y_test)))\n",
        "    scores.append(best_model.score(X_test, y_test))\n",
        "print(\"MESOS OROS ACCURACY: \", np.mean(scores))\n",
        "accuracyScores2.append(np.mean(scores))"
      ],
      "execution_count": 40,
      "outputs": [
        {
          "output_type": "stream",
          "text": [
            "Score on test data: 0.5219072164948454\n",
            "\n",
            "Score on test data: 0.5025773195876289\n",
            "\n",
            "Score on test data: 0.5251612903225806\n",
            "\n",
            "Score on test data: 0.5109677419354839\n",
            "\n",
            "Score on test data: 0.48258064516129034\n",
            "\n",
            "Score on test data: 0.5083870967741936\n",
            "\n",
            "Score on test data: 0.4941935483870968\n",
            "\n",
            "Score on test data: 0.5096774193548387\n",
            "\n",
            "Score on test data: 0.5045161290322581\n",
            "\n",
            "Score on test data: 0.5135483870967742\n",
            "\n",
            "MESOS OROS ACCURACY:  0.507351679414699\n"
          ],
          "name": "stdout"
        }
      ]
    },
    {
      "cell_type": "markdown",
      "metadata": {
        "id": "Hi-dlpXxNqRs"
      },
      "source": [
        "####MLP"
      ]
    },
    {
      "cell_type": "code",
      "metadata": {
        "colab": {
          "base_uri": "https://localhost:8080/"
        },
        "id": "ybU_BJqdNugU",
        "outputId": "eac547dd-1543-4c82-fe99-5e1d38dd6742"
      },
      "source": [
        "scaler = MinMaxScaler(feature_range=(0, 1))\n",
        "X = scaler.fit_transform(X)\n",
        "scores = []\n",
        "best_model2= MLPClassifier(solver='lbfgs', alpha=1e-5, hidden_layer_sizes=(5, 2), random_state=1)\n",
        "cv = KFold(10, True,1)\n",
        "for train_index, test_index in cv.split(X):\n",
        "    #print(\"Train Index: \", train_index, \"\\n\")\n",
        "    #print(\"Test Index: \", test_index)\n",
        "    X_train, X_test, y_train, y_test = X[train_index], X[test_index], y[train_index], y[test_index]\n",
        "    best_model2.fit(X_train, y_train)\n",
        "    print('Score on test data: {}\\n'.format(best_model2.score(X_test,y_test)))\n",
        "    scores.append(best_model2.score(X_test, y_test))\n",
        "print(\"MESOS OROS ACCURACY: \", np.mean(scores))\n",
        "accuracyScores2.append(np.mean(scores))"
      ],
      "execution_count": 41,
      "outputs": [
        {
          "output_type": "stream",
          "text": [
            "Score on test data: 0.5644329896907216\n",
            "\n",
            "Score on test data: 0.5876288659793815\n",
            "\n",
            "Score on test data: 0.5974193548387097\n",
            "\n",
            "Score on test data: 0.5819354838709677\n",
            "\n",
            "Score on test data: 0.5716129032258065\n",
            "\n",
            "Score on test data: 0.5664516129032258\n",
            "\n",
            "Score on test data: 0.584516129032258\n",
            "\n",
            "Score on test data: 0.607741935483871\n",
            "\n",
            "Score on test data: 0.6296774193548387\n",
            "\n",
            "Score on test data: 0.6206451612903225\n",
            "\n",
            "MESOS OROS ACCURACY:  0.5912061855670103\n"
          ],
          "name": "stdout"
        }
      ]
    },
    {
      "cell_type": "markdown",
      "metadata": {
        "id": "0rHhQEKjOAvC"
      },
      "source": [
        "####K-NN"
      ]
    },
    {
      "cell_type": "code",
      "metadata": {
        "colab": {
          "base_uri": "https://localhost:8080/"
        },
        "id": "pXPe1vSAN1hs",
        "outputId": "b2027eff-a603-4c14-a978-379d16875e44"
      },
      "source": [
        "print('\\n----------- KNN ------------')\n",
        "scaler = MinMaxScaler(feature_range=(0, 1))\n",
        "X = scaler.fit_transform(X)\n",
        "\n",
        "scores = []\n",
        "best_model= KNeighborsClassifier(n_neighbors = 5, metric = 'minkowski', p = 2)\n",
        "cv = KFold(10, True,1)\n",
        "for train_index, test_index in cv.split(X):\n",
        "    #print(\"Train Index: \", train_index, \"\\n\")\n",
        "    #print(\"Test Index: \", test_index)\n",
        "    X_train, X_test, y_train, y_test = X[train_index], X[test_index], y[train_index], y[test_index]\n",
        "    best_model.fit(X_train, y_train)\n",
        "    print('Score on test data: {}\\n'.format(best_model.score(X_test,y_test)))\n",
        "    scores.append(best_model.score(X_test, y_test))\n",
        "print(\"MESOS OROS ACCURACY: \", np.mean(scores)) \n",
        "accuracyScores2.append(np.mean(scores))"
      ],
      "execution_count": 42,
      "outputs": [
        {
          "output_type": "stream",
          "text": [
            "\n",
            "----------- KNN ------------\n",
            "Score on test data: 0.7332474226804123\n",
            "\n",
            "Score on test data: 0.6752577319587629\n",
            "\n",
            "Score on test data: 0.6516129032258065\n",
            "\n",
            "Score on test data: 0.6490322580645161\n",
            "\n",
            "Score on test data: 0.6683870967741935\n",
            "\n",
            "Score on test data: 0.6541935483870968\n",
            "\n",
            "Score on test data: 0.6761290322580645\n",
            "\n",
            "Score on test data: 0.6890322580645162\n",
            "\n",
            "Score on test data: 0.6709677419354839\n",
            "\n",
            "Score on test data: 0.6787096774193548\n",
            "\n",
            "MESOS OROS ACCURACY:  0.6746569670768208\n"
          ],
          "name": "stdout"
        }
      ]
    },
    {
      "cell_type": "markdown",
      "metadata": {
        "id": "QR-7EJbtNw19"
      },
      "source": [
        "####Decision tree"
      ]
    },
    {
      "cell_type": "code",
      "metadata": {
        "colab": {
          "base_uri": "https://localhost:8080/"
        },
        "id": "W9rK9OOiOK-M",
        "outputId": "5d27caf6-e2e0-481a-8503-5ddaa0ec291a"
      },
      "source": [
        "print('\\n----------- Decision trees ------------')\n",
        "scaler = MinMaxScaler(feature_range=(0, 1))\n",
        "X = scaler.fit_transform(X)\n",
        "\n",
        "scores = []\n",
        "#best_model= RandomForestClassifier(n_estimators = 15, criterion = 'entropy', random_state = 0)\n",
        "best_model = DecisionTreeClassifier( criterion = 'entropy', random_state = 0)\n",
        "cv = KFold(10, True,1)\n",
        "for train_index, test_index in cv.split(X):\n",
        "    #print(\"Train Index: \", train_index, \"\\n\")\n",
        "    #print(\"Test Index: \", test_index)\n",
        "    X_train, X_test, y_train, y_test = X[train_index], X[test_index], y[train_index], y[test_index]\n",
        "    best_model.fit(X_train, y_train)\n",
        "    print('Score on test data: {}\\n'.format(best_model.score(X_test,y_test)))\n",
        "    scores.append(best_model.score(X_test, y_test))\n",
        "print(\"MESOS OROS ACCURACY: \", np.mean(scores))  \n",
        "accuracyScores2.append(np.mean(scores))"
      ],
      "execution_count": 43,
      "outputs": [
        {
          "output_type": "stream",
          "text": [
            "\n",
            "----------- Decision trees ------------\n",
            "Score on test data: 0.7525773195876289\n",
            "\n",
            "Score on test data: 0.7216494845360825\n",
            "\n",
            "Score on test data: 0.7161290322580646\n",
            "\n",
            "Score on test data: 0.7419354838709677\n",
            "\n",
            "Score on test data: 0.7070967741935484\n",
            "\n",
            "Score on test data: 0.7251612903225807\n",
            "\n",
            "Score on test data: 0.7406451612903225\n",
            "\n",
            "Score on test data: 0.7380645161290322\n",
            "\n",
            "Score on test data: 0.7664516129032258\n",
            "\n",
            "Score on test data: 0.7419354838709677\n",
            "\n",
            "MESOS OROS ACCURACY:  0.7351646158962422\n"
          ],
          "name": "stdout"
        }
      ]
    },
    {
      "cell_type": "markdown",
      "metadata": {
        "id": "eZGCkV6sOObQ"
      },
      "source": [
        "####Random Forest"
      ]
    },
    {
      "cell_type": "code",
      "metadata": {
        "colab": {
          "base_uri": "https://localhost:8080/"
        },
        "id": "Io7SSKWBOR4G",
        "outputId": "972ada7b-f165-4804-f975-92aefe6163f4"
      },
      "source": [
        "print('\\n----------- Random forests ------------')\n",
        "scaler = MinMaxScaler(feature_range=(0, 1))\n",
        "X = scaler.fit_transform(X)\n",
        "\n",
        "scores = []\n",
        "best_model1= RandomForestClassifier(n_estimators = 15, criterion = 'entropy', random_state = 0)\n",
        "\n",
        "cv = KFold(10, True,1)\n",
        "for train_index, test_index in cv.split(X):\n",
        "    #print(\"Train Index: \", train_index, \"\\n\")\n",
        "    #print(\"Test Index: \", test_index)\n",
        "    X_train, X_test, y_train, y_test = X[train_index], X[test_index], y[train_index], y[test_index]\n",
        "    best_model1.fit(X_train, y_train)\n",
        "    print('Score on test data: {}\\n'.format(best_model1.score(X_test,y_test)))\n",
        "    scores.append(best_model1.score(X_test, y_test))\n",
        "print(\"MESOS OROS ACCURACY: \", np.mean(scores)) \n",
        "accuracyScores2.append(np.mean(scores))"
      ],
      "execution_count": 44,
      "outputs": [
        {
          "output_type": "stream",
          "text": [
            "\n",
            "----------- Random forests ------------\n",
            "Score on test data: 0.7615979381443299\n",
            "\n",
            "Score on test data: 0.720360824742268\n",
            "\n",
            "Score on test data: 0.7303225806451613\n",
            "\n",
            "Score on test data: 0.7561290322580645\n",
            "\n",
            "Score on test data: 0.7238709677419355\n",
            "\n",
            "Score on test data: 0.7341935483870968\n",
            "\n",
            "Score on test data: 0.7419354838709677\n",
            "\n",
            "Score on test data: 0.7587096774193548\n",
            "\n",
            "Score on test data: 0.7741935483870968\n",
            "\n",
            "Score on test data: 0.7354838709677419\n",
            "\n",
            "MESOS OROS ACCURACY:  0.7436797472564016\n"
          ],
          "name": "stdout"
        }
      ]
    },
    {
      "cell_type": "markdown",
      "metadata": {
        "id": "T27_ninPOU1D"
      },
      "source": [
        "####Gradient boosting cliassifier"
      ]
    },
    {
      "cell_type": "code",
      "metadata": {
        "colab": {
          "base_uri": "https://localhost:8080/"
        },
        "id": "UI6HrYZIOY6i",
        "outputId": "cb17102f-39e6-42dc-ab6d-06c52caa4dba"
      },
      "source": [
        "print('\\n----------- Gradient boosting classifier ------------')\n",
        "scaler = MinMaxScaler(feature_range=(0, 1))\n",
        "X = scaler.fit_transform(X)\n",
        "\n",
        "scores = []\n",
        "best_model= GradientBoostingClassifier(n_estimators=100, learning_rate=1,\n",
        "                                 max_depth=1, random_state=0).fit(X_train, y_train)\n",
        "\n",
        "cv = KFold(10, True,1)\n",
        "for train_index, test_index in cv.split(X):\n",
        "    #print(\"Train Index: \", train_index, \"\\n\")\n",
        "    #print(\"Test Index: \", test_index)\n",
        "    X_train, X_test, y_train, y_test = X[train_index], X[test_index], y[train_index], y[test_index]\n",
        "    best_model.fit(X_train, y_train)\n",
        "    print('Score on test data: {}\\n'.format(best_model.score(X_test,y_test)))\n",
        "    scores.append(best_model.score(X_test, y_test))\n",
        "print(\"MESOS OROS ACCURACY: \", np.mean(scores)) \n",
        "accuracyScores2.append(np.mean(scores))"
      ],
      "execution_count": 45,
      "outputs": [
        {
          "output_type": "stream",
          "text": [
            "\n",
            "----------- Gradient boosting classifier ------------\n",
            "Score on test data: 0.615979381443299\n",
            "\n",
            "Score on test data: 0.5760309278350515\n",
            "\n",
            "Score on test data: 0.5987096774193549\n",
            "\n",
            "Score on test data: 0.6051612903225806\n",
            "\n",
            "Score on test data: 0.5870967741935483\n",
            "\n",
            "Score on test data: 0.5832258064516129\n",
            "\n",
            "Score on test data: 0.5509677419354839\n",
            "\n",
            "Score on test data: 0.6258064516129033\n",
            "\n",
            "Score on test data: 0.5638709677419355\n",
            "\n",
            "Score on test data: 0.6258064516129033\n",
            "\n",
            "MESOS OROS ACCURACY:  0.5932655470568673\n"
          ],
          "name": "stdout"
        }
      ]
    },
    {
      "cell_type": "markdown",
      "metadata": {
        "id": "nU3fbHkTOmSC"
      },
      "source": [
        "####Bagging classifier"
      ]
    },
    {
      "cell_type": "code",
      "metadata": {
        "colab": {
          "base_uri": "https://localhost:8080/"
        },
        "id": "ESuGIIduOzSV",
        "outputId": "383ab4ca-6407-49aa-d4ac-dbecaf2cbe05"
      },
      "source": [
        "print('\\n----------- Bagging Classifier ------------')\n",
        "from sklearn.model_selection import RepeatedStratifiedKFold \n",
        "from sklearn.ensemble import BaggingClassifier\n",
        "n_estimators = [10, 100, 1000]\n",
        "model = BaggingClassifier()     #by deafult estimator einai to decisiontreeclassifier\n",
        "# define grid search\n",
        "grid = dict(n_estimators=n_estimators)\n",
        "cv = RepeatedStratifiedKFold(n_splits=10, n_repeats=3, random_state=1)\n",
        "grid_search = GridSearchCV(estimator=model, param_grid=grid, n_jobs=-1, cv=cv, scoring='accuracy',error_score=0)\n",
        "grid_result = grid_search.fit(X_train, y_train)\n",
        "# summarize results\n",
        "print(\"Best: %f using %s\" % (grid_result.best_score_, grid_result.best_params_))\n",
        "means = grid_result.cv_results_['mean_test_score']\n",
        "stds = grid_result.cv_results_['std_test_score']\n",
        "params = grid_result.cv_results_['params']\n",
        "for mean, stdev, param in zip(means, stds, params):\n",
        "    print(\"%f (%f) with: %r\" % (mean, stdev, param)) \n",
        "accuracyScores.append(grid_result.best_score_)    \n",
        "accuracyScores2.append(grid_result.best_score_) "
      ],
      "execution_count": 46,
      "outputs": [
        {
          "output_type": "stream",
          "text": [
            "\n",
            "----------- Bagging Classifier ------------\n",
            "Best: 0.784814 using {'n_estimators': 1000}\n",
            "0.759875 (0.014570) with: {'n_estimators': 10}\n",
            "0.781708 (0.012353) with: {'n_estimators': 100}\n",
            "0.784814 (0.013710) with: {'n_estimators': 1000}\n"
          ],
          "name": "stdout"
        }
      ]
    },
    {
      "cell_type": "code",
      "metadata": {
        "id": "4pD2Z_mgPFr0"
      },
      "source": [
        "#kanw tis times twn score se pososto \n",
        "new_accuracyScores = [round(i*100) for i in accuracyScores]\n",
        "new_accuracyScores2 = [round(i*100) for i in accuracyScores2]"
      ],
      "execution_count": 47,
      "outputs": []
    },
    {
      "cell_type": "markdown",
      "metadata": {
        "id": "-US3YKrfPILE"
      },
      "source": [
        "#Scores and Visualising the results"
      ]
    },
    {
      "cell_type": "code",
      "metadata": {
        "colab": {
          "base_uri": "https://localhost:8080/",
          "height": 592
        },
        "id": "4cpk95XFPR4j",
        "outputId": "2a752768-ff77-4d90-c89e-c4e4a5b85e8a"
      },
      "source": [
        "print(\"\\n ------------- Score of Models -----------------\")\n",
        "\n",
        "modelList=['SVM','SVM Kernel','Naive Bayes','K-NN','Logistic Regression','Decision Tree',\n",
        "           'Random Forest','MLP','Gradient Boosting Classifier','RandomizedSearchCV',\n",
        "           'Bagging Classifier']\n",
        "\n",
        "for i,j in zip(modelList, new_accuracyScores):\n",
        "    print(i,'Score:',j,\"%\")\n",
        "#plot the score of models        \n",
        "fig = plt.figure()\n",
        "ax = fig.add_axes([0,0,1,1])\n",
        "ax.barh(modelList,new_accuracyScores,color=['mediumseagreen'])\n",
        "plt.title('Score of models')\n",
        "plt.xlabel('Score')\n",
        "for modelList, value in enumerate(new_accuracyScores):\n",
        "    plt.text(value, modelList, str(value))\n",
        "plt.show()"
      ],
      "execution_count": 48,
      "outputs": [
        {
          "output_type": "stream",
          "text": [
            "\n",
            " ------------- Score of Models -----------------\n",
            "SVM Score: 50 %\n",
            "SVM Kernel Score: 63 %\n",
            "Naive Bayes Score: 6 %\n",
            "K-NN Score: 66 %\n",
            "Logistic Regression Score: 51 %\n",
            "Decision Tree Score: 73 %\n",
            "Random Forest Score: 75 %\n",
            "MLP Score: 62 %\n",
            "Gradient Boosting Classifier Score: 59 %\n",
            "RandomizedSearchCV Score: 75 %\n",
            "Bagging Classifier Score: 78 %\n"
          ],
          "name": "stdout"
        },
        {
          "output_type": "display_data",
          "data": {
            "image/png": "[encoded data removed]",
            "text/plain": [
              "<Figure size 432x288 with 1 Axes>"
            ]
          },
          "metadata": {
            "tags": []
          }
        }
      ]
    },
    {
      "cell_type": "code",
      "metadata": {
        "colab": {
          "base_uri": "https://localhost:8080/",
          "height": 592
        },
        "id": "iOBvQKR9UK0J",
        "outputId": "e1ae71a3-4b5a-467d-94b4-3d451a11df71"
      },
      "source": [
        "print(\"\\n ------------- Score of Models with K -----------------\")\n",
        "modelList2=['Randomized search','SVM ','SVM rbf','Naive Bayes','Logistic Regression','MLP','K-NN','Decision Tree',\n",
        "           'Random Forest','Gradient Boosting Classifier','Bagging Classifier']\n",
        "\n",
        "for i,j in zip(modelList2, new_accuracyScores2):\n",
        "    print(i,'Score:',j,\"%\")\n",
        "#plot the score of models        \n",
        "fig = plt.figure()\n",
        "ax = fig.add_axes([0,0,1,1])\n",
        "ax.barh(modelList2,new_accuracyScores2,color=['mediumseagreen'])\n",
        "plt.title('Score of models')\n",
        "plt.xlabel('Score')\n",
        "for modelList2, value in enumerate(new_accuracyScores2):\n",
        "    plt.text(value, modelList2, str(value))\n",
        "plt.show()"
      ],
      "execution_count": 49,
      "outputs": [
        {
          "output_type": "stream",
          "text": [
            "\n",
            " ------------- Score of Models with K -----------------\n",
            "Randomized search Score: 75 %\n",
            "SVM  Score: 50 %\n",
            "SVM rbf Score: 59 %\n",
            "Naive Bayes Score: 6 %\n",
            "Logistic Regression Score: 51 %\n",
            "MLP Score: 59 %\n",
            "K-NN Score: 67 %\n",
            "Decision Tree Score: 74 %\n",
            "Random Forest Score: 74 %\n",
            "Gradient Boosting Classifier Score: 59 %\n",
            "Bagging Classifier Score: 78 %\n"
          ],
          "name": "stdout"
        },
        {
          "output_type": "display_data",
          "data": {
            "image/png": "[encoded data removed]",
            "text/plain": [
              "<Figure size 432x288 with 1 Axes>"
            ]
          },
          "metadata": {
            "tags": []
          }
        }
      ]
    },
    {
      "cell_type": "markdown",
      "metadata": {
        "id": "9YPLQtAARJDu"
      },
      "source": [
        "Visualising the best model (Bagging classifier)"
      ]
    },
    {
      "cell_type": "code",
      "metadata": {
        "id": "jS3sPjXZPiid"
      },
      "source": [
        "#xrisimopoiw to kalutero modelo gia na kanw predict ton deikti pm10\n",
        "compare_data = pd.DataFrame({'dates':df['datetime'],\n",
        "                            'Actual PM10':y,\n",
        "                            'Predicted PM10':grid_search.predict(X)})\n",
        "compare_data[\"Actual PM10\"] = pd.to_numeric(compare_data[\"Actual PM10\"])\n",
        "compare_data[\"Predicted PM10\"] = pd.to_numeric(compare_data[\"Predicted PM10\"])\n",
        "compare_data.set_index('dates',inplace=True)\n",
        "compare_data['Predicted PM10'] = np.round(compare_data['Predicted PM10'],1)"
      ],
      "execution_count": 50,
      "outputs": []
    },
    {
      "cell_type": "code",
      "metadata": {
        "colab": {
          "base_uri": "https://localhost:8080/",
          "height": 396
        },
        "id": "zzu4u3qzPjmM",
        "outputId": "e23abffd-81e2-40f8-92a0-5fd0d6ca2d35"
      },
      "source": [
        "# plot the daily averages of the Actual PM10 and the predicted PM10\n",
        "compare_data = compare_data.resample('D').mean()\n",
        "\n",
        "with plt.style.context('fivethirtyeight'):\n",
        "    plt.figure(figsize=(10,5))\n",
        "    plt.scatter(compare_data.index,compare_data['Actual PM10'],s=15,label='Actual PM10',\n",
        "               alpha=.6)\n",
        "    plt.scatter(compare_data.index,compare_data['Predicted PM10'],s=15,label='Predicted PM10',\n",
        "               alpha=.6)\n",
        "    plt.legend()\n",
        "    plt.title('Evaluating the model\\n',\n",
        "             fontsize=18)\n",
        "    plt.xlabel('period',fontsize=15)\n",
        "    plt.ylabel('PM10 concentration',fontsize=15)\n",
        "    plt.show() "
      ],
      "execution_count": 51,
      "outputs": [
        {
          "output_type": "display_data",
          "data": {
            "image/png": "[encoded data removed]",
            "text/plain": [
              "<Figure size 720x360 with 1 Axes>"
            ]
          },
          "metadata": {
            "tags": []
          }
        }
      ]
    },
    {
      "cell_type": "markdown",
      "metadata": {
        "id": "o4r4sXI336ZY"
      },
      "source": [
        "Parity plot\n"
      ]
    },
    {
      "cell_type": "code",
      "metadata": {
        "colab": {
          "base_uri": "https://localhost:8080/",
          "height": 535
        },
        "id": "sz1ACSLq38tQ",
        "outputId": "8849ac1f-72b4-4bd4-8242-6e84ce6c6dd9"
      },
      "source": [
        "fignow = plt.figure(figsize=(8,8))\n",
        "\n",
        "x = compare_data['Actual PM10']\n",
        "y = compare_data[\"Predicted PM10\"]\n",
        "\n",
        "## find the boundaries of X and Y values\n",
        "bounds = (min(x.min(), y.min()) - int(0.1 * y.min()), max(x.max(), y.max())+ int(0.1 * y.max()))\n",
        "\n",
        "# Reset the limits\n",
        "ax = plt.gca()\n",
        "ax.set_xlim(bounds)\n",
        "ax.set_ylim(bounds)\n",
        "# Ensure the aspect ratio is square\n",
        "ax.set_aspect(\"equal\", adjustable=\"box\")\n",
        "\n",
        "plt.plot(x,y,\"o\", alpha=0.5 ,ms=10, markeredgewidth=0.0)\n",
        "\n",
        "ax.plot([0, 1], [0, 1], \"r-\",lw=2 ,transform=ax.transAxes)\n",
        "\n",
        "# Calculate Statistics of the Parity Plot \n",
        "mean_abs_err = np.mean(np.abs(x-y))\n",
        "rmse = np.sqrt(np.mean((x-y)**2))\n",
        "rmse_std = rmse / np.std(y)\n",
        "\n",
        "# Title and labels \n",
        "plt.title(\"Parity Plot\")\n",
        "plt.xlabel('Actual')\n",
        "plt.ylabel('Predicted')"
      ],
      "execution_count": 53,
      "outputs": [
        {
          "output_type": "execute_result",
          "data": {
            "text/plain": [
              "Text(0, 0.5, 'Predicted')"
            ]
          },
          "metadata": {
            "tags": []
          },
          "execution_count": 53
        },
        {
          "output_type": "display_data",
          "data": {
            "image/png": "[encoded data removed]",
            "text/plain": [
              "<Figure size 576x576 with 1 Axes>"
            ]
          },
          "metadata": {
            "tags": []
          }
        }
      ]
    }
  ]
}