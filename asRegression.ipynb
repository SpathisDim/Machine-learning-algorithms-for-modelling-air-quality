{
  "nbformat": 4,
  "nbformat_minor": 0,
  "metadata": {
    "colab": {
      "name": "asRegression.ipynb",
      "provenance": [],
      "collapsed_sections": []
    },
    "kernelspec": {
      "name": "python3",
      "display_name": "Python 3"
    },
    "language_info": {
      "name": "python"
    }
  },
  "cells": [
    {
      "cell_type": "markdown",
      "metadata": {
        "id": "lvKaEVQGeQZg"
      },
      "source": [
        "# Importing the libraries"
      ]
    },
    {
      "cell_type": "code",
      "metadata": {
        "id": "gtTejPxueTnb"
      },
      "source": [
        "import pandas as pd\n",
        "import numpy as np\n",
        "import matplotlib.pyplot as plt\n",
        "import seaborn as sns\n",
        "import warnings\n",
        "from IPython.display import display\n",
        "warnings.filterwarnings(action='ignore')"
      ],
      "execution_count": 1,
      "outputs": []
    },
    {
      "cell_type": "markdown",
      "metadata": {
        "id": "_Y7KDvskedXU"
      },
      "source": [
        "# Importing the dataset"
      ]
    },
    {
      "cell_type": "code",
      "metadata": {
        "colab": {
          "base_uri": "https://localhost:8080/"
        },
        "id": "hJsaGTfAe2qB",
        "outputId": "a538d274-3bc3-433c-90eb-65badb6bc4d5"
      },
      "source": [
        "dataset='data.csv'\n",
        "data = pd.read_csv(dataset)\n",
        "data.drop(\"Unnamed: 0\",axis=1,inplace=True)\n",
        "print(data.head())\n"
      ],
      "execution_count": 2,
      "outputs": [
        {
          "output_type": "stream",
          "text": [
            "       Date  Hours   WS   WD PM10\n",
            "0  1/4/2015  01:00  1.3  350    9\n",
            "1  1/4/2015  02:00  1.3  222    7\n",
            "2  1/4/2015  03:00  1.6  318    7\n",
            "3  1/4/2015  04:00  0.7  326    7\n",
            "4  1/4/2015  05:00  1.9  274    6\n"
          ],
          "name": "stdout"
        }
      ]
    },
    {
      "cell_type": "markdown",
      "metadata": {
        "id": "RzamjeQogS-C"
      },
      "source": [
        "\n",
        "# Data Preprocessing "
      ]
    },
    {
      "cell_type": "markdown",
      "metadata": {
        "id": "Q9VzqZl1gyIt"
      },
      "source": [
        "##### Print the data information and replace the \"NoData\", \"Samp\", \"OffScan\" values ​​with the recognized NaN value for the dataframe"
      ]
    },
    {
      "cell_type": "code",
      "metadata": {
        "colab": {
          "base_uri": "https://localhost:8080/"
        },
        "id": "R1PgzIQ5gm5X",
        "outputId": "81750444-b61e-48b0-cdd6-744dc112a0ac"
      },
      "source": [
        "data.info()\n",
        "print('Are there any duplicated values in our data ? : {}\\n'.format(data.duplicated().any()))\n",
        "print('The total number of null values in each column:')\n",
        "new_data=data.replace('NoData', np.NaN)                                         #antikathistw tis NoData values me anagnwrisimo NaN gia to dataframe\n",
        "new_data=new_data.replace('Samp<', np.NaN)\n",
        "new_data=new_data.replace('OffScan', np.NaN)\n",
        "print(new_data.isnull().sum())"
      ],
      "execution_count": 3,
      "outputs": [
        {
          "output_type": "stream",
          "text": [
            "<class 'pandas.core.frame.DataFrame'>\n",
            "RangeIndex: 7752 entries, 0 to 7751\n",
            "Data columns (total 5 columns):\n",
            " #   Column  Non-Null Count  Dtype \n",
            "---  ------  --------------  ----- \n",
            " 0   Date    7752 non-null   object\n",
            " 1   Hours   7752 non-null   object\n",
            " 2   WS      7752 non-null   object\n",
            " 3   WD      7752 non-null   object\n",
            " 4   PM10    7752 non-null   object\n",
            "dtypes: object(5)\n",
            "memory usage: 302.9+ KB\n",
            "Are there any duplicated values in our data ? : False\n",
            "\n",
            "The total number of null values in each column:\n",
            "Date      0\n",
            "Hours     0\n",
            "WS       87\n",
            "WD       87\n",
            "PM10     90\n",
            "dtype: int64\n"
          ],
          "name": "stdout"
        }
      ]
    },
    {
      "cell_type": "markdown",
      "metadata": {
        "id": "UeTARnTQh6YU"
      },
      "source": [
        "####Conversion of degrees to wind directions"
      ]
    },
    {
      "cell_type": "code",
      "metadata": {
        "id": "Vd31bNjPiAlb"
      },
      "source": [
        "df=new_data #copy to df\n",
        "df=df.astype({'WD': 'float64'})\n",
        "df=df.astype({'WS': 'float64'})\n",
        "df=df.astype({'PM10': 'float64'})\n",
        "\n",
        "df.loc[(df['WD'] >337.5) | (df['WD']<=22.5),'WD1']= 'N'\n",
        "\n",
        "df.loc[(df['WD'] >22.5) & (df['WD']<=67.5),'WD2']= 'NE'\n",
        "\n",
        "df.loc[(df['WD'] >67.5) & (df['WD']<=112.5),'WD3']= 'Ε'\n",
        "\n",
        "df.loc[(df['WD'] >112.5) & (df['WD']<=157.5),'WD4']= 'SE'\n",
        "\n",
        "df.loc[(df['WD'] >157.5) & (df['WD']<=202.5),'WD5']= 'S'\n",
        "\n",
        "df.loc[(df['WD'] >202.5) & (df['WD']<=247.5),'WD6']= 'SW'\n",
        "\n",
        "df.loc[(df['WD'] >247.5) & (df['WD']<=292.5),'WD7']= 'W'\n",
        "\n",
        "df.loc[(df['WD'] >292.5) & (df['WD']<=337.5),'WD8']= 'NW'\n",
        "\n",
        "#kanw x.dropna gia na xefortwthw tis NaN times\n",
        "df[\"WindDirection\"]=df[['WD1','WD2','WD3','WD4','WD5','WD6','WD7','WD8']].apply(lambda x: ''.join(x.dropna().astype(str)),axis=1)"
      ],
      "execution_count": 4,
      "outputs": []
    },
    {
      "cell_type": "markdown",
      "metadata": {
        "id": "PU4p9y7_ieXj"
      },
      "source": [
        "####Change the wrong time and combine the hours with the dates"
      ]
    },
    {
      "cell_type": "code",
      "metadata": {
        "colab": {
          "base_uri": "https://localhost:8080/"
        },
        "id": "WnaQo5zKju34",
        "outputId": "4cef7edd-aff1-48dd-f1f6-1842d7ba45c9"
      },
      "source": [
        "df=df.replace('24:00', '00:00')                    #diorthwnw tin lanthasmeni wra\n",
        "df['months']=df['Date'].str.split('/').str[1]\n",
        "df['days']=df['Date'].str.split('/').str[0]\n",
        "df['hours']=df['Hours'].str.split(':').str[0]\n",
        "df['nodays']=df['Date'].str.split('').str[0]\n",
        "\n",
        "#ftiaxnw to datetime enwnw thn hmeromhnia me tis wres \n",
        "full_date=[]\n",
        "for i in range(df.shape[0]):\n",
        "       full_date.append(str(df['months'].values[i]+'-'+str(df['days'].values[i])+'-15'+' '+str(df['Hours'].values[i])))#default seira M D Y vazw 15 gt to kanei aytomata 2015          \n",
        "dates=pd.to_datetime(full_date)\n",
        "dates=pd.DataFrame(dates,columns=['datetime'])\n",
        "df=pd.concat([dates,df],axis=1)\n",
        "print(dates)\n",
        "exportdf=df[['hours','days','months','WindDirection','WS','PM10']]\n",
        "print(\"Final dataframe \\n\",exportdf)"
      ],
      "execution_count": 5,
      "outputs": [
        {
          "output_type": "stream",
          "text": [
            "                datetime\n",
            "0    2015-04-01 01:00:00\n",
            "1    2015-04-01 02:00:00\n",
            "2    2015-04-01 03:00:00\n",
            "3    2015-04-01 04:00:00\n",
            "4    2015-04-01 05:00:00\n",
            "...                  ...\n",
            "7747 2015-09-02 20:00:00\n",
            "7748 2015-09-02 21:00:00\n",
            "7749 2015-09-02 22:00:00\n",
            "7750 2015-09-02 23:00:00\n",
            "7751 2015-09-02 00:00:00\n",
            "\n",
            "[7752 rows x 1 columns]\n",
            "Final dataframe \n",
            "      hours days months WindDirection   WS  PM10\n",
            "0       01    1      4             N  1.3   9.0\n",
            "1       02    1      4            SW  1.3   7.0\n",
            "2       03    1      4            NW  1.6   7.0\n",
            "3       04    1      4            NW  0.7   7.0\n",
            "4       05    1      4             W  1.9   6.0\n",
            "...    ...  ...    ...           ...  ...   ...\n",
            "7747    20    2      9            SE  1.9  67.0\n",
            "7748    21    2      9             W  0.7  52.0\n",
            "7749    22    2      9             Ε  0.7  34.0\n",
            "7750    23    2      9             W  1.0  34.0\n",
            "7751    00    2      9             W  1.5  32.0\n",
            "\n",
            "[7752 rows x 6 columns]\n"
          ],
          "name": "stdout"
        }
      ]
    },
    {
      "cell_type": "markdown",
      "metadata": {
        "id": "_FPeBKaMk4i6"
      },
      "source": [
        "Find the most appearing wind direction value and the max values "
      ]
    },
    {
      "cell_type": "code",
      "metadata": {
        "colab": {
          "base_uri": "https://localhost:8080/"
        },
        "id": "zlTn5grClWkB",
        "outputId": "0dd450c8-53e1-4b6a-cd3b-01f3d98df3c9"
      },
      "source": [
        "print('\\nMost appearing for Wind speed',df.WS.mode())\n",
        "print('Most appearing for direction ',df.WindDirection.mode())\n",
        "print('Most appearing for PM10 ', df.PM10.mode())\n",
        "print('\\nMax values','\\n WindSpeed:',df.WS.max(), '\\n WindDirection:', df.WindDirection.max() )"
      ],
      "execution_count": 6,
      "outputs": [
        {
          "output_type": "stream",
          "text": [
            "\n",
            "Most appearing for Wind speed 0    0.7\n",
            "dtype: float64\n",
            "Most appearing for direction  0    NW\n",
            "dtype: object\n",
            "Most appearing for PM10  0    19.0\n",
            "dtype: float64\n",
            "\n",
            "Max values \n",
            " WindSpeed: 14.2 \n",
            " WindDirection: Ε\n"
          ],
          "name": "stdout"
        }
      ]
    },
    {
      "cell_type": "markdown",
      "metadata": {
        "id": "RyU5HCGCl0Dk"
      },
      "source": [
        "####Plot the data"
      ]
    },
    {
      "cell_type": "code",
      "metadata": {
        "colab": {
          "base_uri": "https://localhost:8080/",
          "height": 352
        },
        "id": "sOTc1aQSmDRO",
        "outputId": "a32a25ce-9f2a-4650-bfd6-4182449738d3"
      },
      "source": [
        "plt.figure(figsize=(10,5))\n",
        "sns.histplot(df['PM10'],bins=50)\n",
        "plt.title('Distribution of the hourly recorded PM10 concetration in the air',fontsize=16)\n",
        "plt.show()\n"
      ],
      "execution_count": 7,
      "outputs": [
        {
          "output_type": "display_data",
          "data": {
            "image/png": "[encoded data removed]",
            "text/plain": [
              "<Figure size 720x360 with 1 Axes>"
            ]
          },
          "metadata": {
            "tags": [],
            "needs_background": "light"
          }
        }
      ]
    },
    {
      "cell_type": "code",
      "metadata": {
        "colab": {
          "base_uri": "https://localhost:8080/",
          "height": 369
        },
        "id": "j6oqcxwAmjqG",
        "outputId": "cd0401a0-0da0-44fe-b1a6-c374f155efb5"
      },
      "source": [
        "df['months']=df['months'].replace('08',8)\n",
        "df['months']=df['months'].replace('07',7)\n",
        "df['months']=df['months'].replace('06',6)\n",
        "df=df.astype({'months': 'int64'})\n",
        "\n",
        "monthly_data=df[['months','PM10']]\n",
        "months2 = ['January','February','March','April','May','June','July',\n",
        "           'August','September','October','November','December']\n",
        "monthdf = pd.DataFrame(months2,columns=['months'])\n",
        "monthFullname={}\n",
        "for i,j in enumerate(months2):\n",
        "    monthFullname.setdefault(i+1,j)                                             #i+1 giati thelw na xekinaei apo 1(Ianouarios) kai oxi apo 0\n",
        "\n",
        "#antistoixisi sto dataframe twn mhnwn -> olografws tous mhnes\n",
        "monthly_data.months = monthly_data.months.map(monthFullname)\n",
        "monthly_avg=monthly_data.groupby('months').median()                             #Ton meso oro PM10 ana mina\n",
        "monthly_avg = pd.merge(monthdf,monthly_avg,left_on='months',right_index=True)\n",
        "#strogilopoihsh ton meso oro se periptwsh pou xreiastei\n",
        "monthly_avg = np.round(monthly_avg,1)\n",
        "monthly_avg=monthly_avg.set_index('months')\n",
        "\n",
        "with plt.style.context('ggplot'):\n",
        "    monthly_avg.plot(figsize=(10,5),kind='bar',color='mediumseagreen',linewidth=1)\n",
        "    plt.xlabel('Months',fontsize=12)\n",
        "    plt.ylabel('PM10 concentration ',fontsize=12)\n",
        "    plt.title('Monthly average of the hourly recorded PM10 concentration in\\nthe air',fontsize=14)\n",
        "    plt.grid(axis='x')\n",
        "    plt.tight_layout()\n",
        "    plt.show()\n"
      ],
      "execution_count": 8,
      "outputs": [
        {
          "output_type": "display_data",
          "data": {
            "image/png": "[encoded data removed]",
            "text/plain": [
              "<Figure size 720x360 with 1 Axes>"
            ]
          },
          "metadata": {
            "tags": []
          }
        }
      ]
    },
    {
      "cell_type": "code",
      "metadata": {
        "id": "w4csPVqssZ4h"
      },
      "source": [
        "#diorthwnw to format ths wras apo 01 02 se 1,2 klp.\n",
        "df['hours']=df['hours'].replace({'00':0, '01':1}) "
      ],
      "execution_count": 9,
      "outputs": []
    },
    {
      "cell_type": "code",
      "metadata": {
        "colab": {
          "base_uri": "https://localhost:8080/",
          "height": 369
        },
        "id": "AFDJ7lIFsL0t",
        "outputId": "1694fe31-b05a-4d40-9a62-142d1b864f5c"
      },
      "source": [
        "hours=['12 AM','1 AM','2 AM','3 AM','4 AM','5 AM','6 AM','7 AM','8 AM','9 AM','10 AM',\n",
        "      '11 AM','12 PM','1 PM','2 PM','3 PM','4 PM','5 PM','6 PM','7 PM','8 PM','9 PM','10 PM','11 PM']\n",
        "hours_matching={}\n",
        "for i,j in enumerate(hours):\n",
        "    hours_matching.setdefault(i,j)\n",
        "\n",
        "hourly_avg=df[['hours','PM10']].groupby('hours').median().reset_index()\n",
        "hourly_avg.hours=hourly_avg.hours.map(hours_matching)\n",
        "hourly_avg=hourly_avg.set_index('hours')\n",
        "\n",
        "with plt.style.context('ggplot'):\n",
        "    hourly_avg.plot(figsize=(10,5),color='mediumseagreen',kind='barh',linewidth=1)\n",
        "    plt.ylabel('Hours',fontsize=12)\n",
        "    plt.xlabel('PM10 concentration',fontsize=12)\n",
        "    plt.title('Average recorded PM10 concentration in the air by the hour of the day',fontsize=16)\n",
        "    plt.grid(axis='y')\n",
        "    plt.tight_layout()\n",
        "    plt.show()"
      ],
      "execution_count": 10,
      "outputs": [
        {
          "output_type": "display_data",
          "data": {
            "image/png": "[encoded data removed]",
            "text/plain": [
              "<Figure size 720x360 with 1 Axes>"
            ]
          },
          "metadata": {
            "tags": []
          }
        }
      ]
    },
    {
      "cell_type": "code",
      "metadata": {
        "colab": {
          "base_uri": "https://localhost:8080/",
          "height": 369
        },
        "id": "tKzhe47kskuZ",
        "outputId": "8f37d9a0-2c85-489c-bf5f-b9f4fe52c140"
      },
      "source": [
        "wind_data=df[['WindDirection','PM10']]\n",
        "wind_data=wind_data.groupby('WindDirection').median()\n",
        "\n",
        "with plt.style.context('ggplot'):\n",
        "    wind_data.plot(figsize=(10,5),color='mediumseagreen',kind='barh',linewidth=1)\n",
        "    plt.ylabel('Wind direction',fontsize=12)\n",
        "    plt.xlabel('PM10 concentration',fontsize=12)\n",
        "    plt.title('Average hourly recorded PM10 concentration in the air grouped by wind direction',fontsize=16)\n",
        "    plt.grid(axis='y')\n",
        "    plt.tight_layout()\n",
        "    plt.show()"
      ],
      "execution_count": 11,
      "outputs": [
        {
          "output_type": "display_data",
          "data": {
            "image/png": "[encoded data removed]",
            "text/plain": [
              "<Figure size 720x360 with 1 Axes>"
            ]
          },
          "metadata": {
            "tags": []
          }
        }
      ]
    },
    {
      "cell_type": "code",
      "metadata": {
        "colab": {
          "base_uri": "https://localhost:8080/",
          "height": 369
        },
        "id": "fiQ3zzfVtJjg",
        "outputId": "0906f585-2735-493f-d624-1452f66a37f1"
      },
      "source": [
        "wind_speed=df[['WS','WindDirection']]\n",
        "wind_speed=wind_speed.groupby('WindDirection').median()\n",
        "\n",
        "with plt.style.context('ggplot'):\n",
        "    wind_speed.plot(figsize=(10,5),color='mediumseagreen',kind='barh',linewidth=1)\n",
        "    plt.ylabel('WD',fontsize=12)\n",
        "    plt.xlabel('AVG WS ',fontsize=12)\n",
        "    plt.title('Average wind speed by wind direction',fontsize=16)\n",
        "    plt.grid(axis='y')\n",
        "    plt.tight_layout()\n",
        "    plt.show()"
      ],
      "execution_count": 12,
      "outputs": [
        {
          "output_type": "display_data",
          "data": {
            "image/png": "[encoded data removed]",
            "text/plain": [
              "<Figure size 720x360 with 1 Axes>"
            ]
          },
          "metadata": {
            "tags": []
          }
        }
      ]
    },
    {
      "cell_type": "markdown",
      "metadata": {
        "id": "W0bVPzjVtYk_"
      },
      "source": [
        "##Taking care of missing data"
      ]
    },
    {
      "cell_type": "code",
      "metadata": {
        "colab": {
          "base_uri": "https://localhost:8080/"
        },
        "id": "jHFZ7HM7teQZ",
        "outputId": "14d50e3b-a26e-4b62-a35a-57d6debdf6c8"
      },
      "source": [
        "from sklearn.impute import SimpleImputer\n",
        "imputer = SimpleImputer(missing_values=np.nan, strategy='mean')\n",
        "imputer.fit(exportdf.iloc[:,4:].values)\n",
        "exportdf.iloc[:,4:] = imputer.transform(exportdf.iloc[:,4:].values)\n",
        "print(exportdf)"
      ],
      "execution_count": 13,
      "outputs": [
        {
          "output_type": "stream",
          "text": [
            "     hours days months WindDirection   WS  PM10\n",
            "0       01    1      4             N  1.3   9.0\n",
            "1       02    1      4            SW  1.3   7.0\n",
            "2       03    1      4            NW  1.6   7.0\n",
            "3       04    1      4            NW  0.7   7.0\n",
            "4       05    1      4             W  1.9   6.0\n",
            "...    ...  ...    ...           ...  ...   ...\n",
            "7747    20    2      9            SE  1.9  67.0\n",
            "7748    21    2      9             W  0.7  52.0\n",
            "7749    22    2      9             Ε  0.7  34.0\n",
            "7750    23    2      9             W  1.0  34.0\n",
            "7751    00    2      9             W  1.5  32.0\n",
            "\n",
            "[7752 rows x 6 columns]\n"
          ],
          "name": "stdout"
        }
      ]
    },
    {
      "cell_type": "markdown",
      "metadata": {
        "id": "BoMMT17mtsBw"
      },
      "source": [
        "##Encoding categorical data"
      ]
    },
    {
      "cell_type": "code",
      "metadata": {
        "colab": {
          "base_uri": "https://localhost:8080/"
        },
        "id": "z6znNtlrt2w5",
        "outputId": "31124540-7c7e-4e4a-d56d-1d6a0db7f920"
      },
      "source": [
        "# indepedent variables(predictor variables) (1->N  2->NE  3->NW  4->S   5->SE  6->SW   7->W  8->E) TO 0 exei tis nan times\n",
        "from sklearn.compose import ColumnTransformer\n",
        "from sklearn.preprocessing import OneHotEncoder\n",
        "\n",
        "ct = ColumnTransformer(transformers=[('encoder', OneHotEncoder(), [3])], remainder='passthrough')\n",
        "categorical_data = np.array(ct.fit_transform(exportdf))\n",
        "print(categorical_data)\n",
        "categorical_data=pd.DataFrame(categorical_data)                                 #isws xreiastei na dwsw column names\n",
        "categorical_data=categorical_data.rename(columns={13:\"PM10\"})                   #den allazw ta columns names twn 9:\"datetime\",10:\"WS\" giati exw thema sto standardisation \n",
        "categorical_data = categorical_data.astype({0:'category',1:'category',2:'category',3:'category',4:'category',\n",
        "                                            5:'category',6:'category',7:'category',8:'category',9:'category',10:'float64','PM10':'float64'}) #kanw float tis times tis sthlhs 10 poy einai to WIND SPEED\n",
        "categorical_data=categorical_data.drop(0,axis=1)"
      ],
      "execution_count": 14,
      "outputs": [
        {
          "output_type": "stream",
          "text": [
            "[[0.0 1.0 0.0 ... '4' 1.3 9.0]\n",
            " [0.0 0.0 0.0 ... '4' 1.3 7.0]\n",
            " [0.0 0.0 0.0 ... '4' 1.6 7.0]\n",
            " ...\n",
            " [0.0 0.0 0.0 ... '9' 0.7 34.0]\n",
            " [0.0 0.0 0.0 ... '9' 1.0 34.0]\n",
            " [0.0 0.0 0.0 ... '9' 1.5 32.0]]\n"
          ],
          "name": "stdout"
        }
      ]
    },
    {
      "cell_type": "markdown",
      "metadata": {
        "id": "R8Em6FTNx6mG"
      },
      "source": [
        "Import data in the data box for the utilization rate of the electricity generation units"
      ]
    },
    {
      "cell_type": "code",
      "metadata": {
        "id": "aTUZ0Axnx9kD"
      },
      "source": [
        "#vazw sto DataFrame stoixeia gia ton syntelesti xrhsimopoihshs twn monadwn paragwghs energeias\n",
        "categorical_data=categorical_data.astype({11:'float64'})\n",
        "categorical_data.loc[(categorical_data[11]== 1, 'Jan')]= 65\n",
        "categorical_data.loc[(categorical_data[11]== 2, 'Feb')]= 54.3\n",
        "categorical_data.loc[(categorical_data[11]== 3, 'Mar')]= 58.3\n",
        "categorical_data.loc[(categorical_data[11]== 4, 'Apr')]= 43.5\n",
        "categorical_data.loc[(categorical_data[11]== 5, 'May')]= 51.4\n",
        "categorical_data.loc[(categorical_data[11]== 6, 'Jun')]= 55.3\n",
        "categorical_data.loc[(categorical_data[11]== 7, 'Jul')]= 79\n",
        "categorical_data.loc[(categorical_data[11]== 8, 'Aug')]= 64.2\n",
        "categorical_data.loc[(categorical_data[11]== 9, 'Sep')]= 64.6\n",
        "categorical_data.loc[(categorical_data[11]== 10, 'Oct')]= 49.5\n",
        "categorical_data.loc[(categorical_data[11]== 11, 'Nov')]= 58.3\n",
        "categorical_data.loc[(categorical_data[11]== 12, 'Dec')]= 60.2\n",
        "categorical_data[\"Syntelestis Xrhsimopoihshs\"]=categorical_data[['Jan','Feb','Mar','Apr','May','Jun','Jul','Aug','Sep','Oct','Nov','Dec']].apply(lambda x: ''.join(x.dropna().astype(str)),axis=1)\n"
      ],
      "execution_count": 15,
      "outputs": []
    },
    {
      "cell_type": "code",
      "metadata": {
        "id": "8CgEUiWYzD-1"
      },
      "source": [
        "#vazw sto DataFrame stoixeia gia tin mesh mhniaia thermokrasia \n",
        "categorical_data=categorical_data.astype({11:'float64'})\n",
        "categorical_data.loc[(categorical_data[11]== 1, 'Jan')]= 2.9\n",
        "categorical_data.loc[(categorical_data[11]== 2, 'Feb')]= 3.3\n",
        "categorical_data.loc[(categorical_data[11]== 3, 'Mar')]= 5.8\n",
        "categorical_data.loc[(categorical_data[11]== 4, 'Apr')]= 11.8\n",
        "categorical_data.loc[(categorical_data[11]== 5, 'May')]= 18.5\n",
        "categorical_data.loc[(categorical_data[11]== 6, 'Jun')]= 20.7\n",
        "categorical_data.loc[(categorical_data[11]== 7, 'Jul')]= 26.8\n",
        "categorical_data.loc[(categorical_data[11]== 8, 'Aug')]= 24.3\n",
        "categorical_data.loc[(categorical_data[11]== 9, 'Sep')]= 21.5\n",
        "categorical_data.loc[(categorical_data[11]== 10, 'Oct')]= 13.9\n",
        "categorical_data.loc[(categorical_data[11]== 11, 'Nov')]= 11\n",
        "categorical_data.loc[(categorical_data[11]== 12, 'Dec')]= 4.9\n",
        "categorical_data[\"Tmean\"]=categorical_data[['Jan','Feb','Mar','Apr','May','Jun','Jul','Aug','Sep','Oct','Nov','Dec']].apply(lambda x: ''.join(x.dropna().astype(str)),axis=1)\n"
      ],
      "execution_count": 16,
      "outputs": []
    },
    {
      "cell_type": "code",
      "metadata": {
        "id": "TQ-MHHZizEPT"
      },
      "source": [
        "#vazw sto DataFrame stoixeia gia tin miniaia mesh timi tou Yetou \n",
        "categorical_data=categorical_data.astype({11:'float64'})\n",
        "categorical_data.loc[(categorical_data[11]== 1, 'Jan')]= 41\n",
        "categorical_data.loc[(categorical_data[11]== 2, 'Feb')]= 90\n",
        "categorical_data.loc[(categorical_data[11]== 3, 'Mar')]= 94\n",
        "categorical_data.loc[(categorical_data[11]== 4, 'Apr')]= 28\n",
        "categorical_data.loc[(categorical_data[11]== 5, 'May')]= 69\n",
        "categorical_data.loc[(categorical_data[11]== 6, 'Jun')]= 37\n",
        "categorical_data.loc[(categorical_data[11]== 7, 'Jul')]= 33\n",
        "categorical_data.loc[(categorical_data[11]== 8, 'Aug')]= 69\n",
        "categorical_data.loc[(categorical_data[11]== 9, 'Sep')]= 112\n",
        "categorical_data.loc[(categorical_data[11]== 10, 'Oct')]= 120\n",
        "categorical_data.loc[(categorical_data[11]== 11, 'Nov')]= 35\n",
        "categorical_data.loc[(categorical_data[11]== 12, 'Dec')]= 2\n",
        "categorical_data[\"Yetos\"]=categorical_data[['Jan','Feb','Mar','Apr','May','Jun','Jul','Aug','Sep','Oct','Nov','Dec']].apply(lambda x: ''.join(x.dropna().astype(str)),axis=1)\n"
      ],
      "execution_count": 17,
      "outputs": []
    },
    {
      "cell_type": "code",
      "metadata": {
        "id": "BQp46EBGzi_h"
      },
      "source": [
        "categorical_data=categorical_data[[1,2,3,4,5,6,7,8,9,10,11,12,'PM10','Syntelestis Xrhsimopoihshs','Tmean','Yetos']]\n",
        "categorical_data=categorical_data.astype({9: 'float64'})\n",
        "categorical_data=categorical_data.astype({'Syntelestis Xrhsimopoihshs':'float64'})\n",
        "categorical_data=categorical_data.astype({12:'float64'})\n",
        "categorical_data=categorical_data.astype({'Tmean' :'float64'})\n",
        "categorical_data=categorical_data.astype({'Yetos' :'float64'})\n",
        "categorical_data=categorical_data.rename(columns={9:'hours',10:'days',11:'months',12:'WS','Syntelestis Xrhsimopoihshs':'Synt Xrhs'})\n"
      ],
      "execution_count": 18,
      "outputs": []
    },
    {
      "cell_type": "code",
      "metadata": {
        "colab": {
          "base_uri": "https://localhost:8080/"
        },
        "id": "_N9kNM8uzlVt",
        "outputId": "d3e449c5-8632-47eb-b951-11a290e48040"
      },
      "source": [
        "print(categorical_data)"
      ],
      "execution_count": 19,
      "outputs": [
        {
          "output_type": "stream",
          "text": [
            "        1    2    3    4    5    6  ... months   WS  PM10  Synt Xrhs  Tmean  Yetos\n",
            "0     1.0  0.0  0.0  0.0  0.0  0.0  ...    4.0  1.3   9.0       43.5   11.8   28.0\n",
            "1     0.0  0.0  0.0  0.0  0.0  1.0  ...    4.0  1.3   7.0       43.5   11.8   28.0\n",
            "2     0.0  0.0  1.0  0.0  0.0  0.0  ...    4.0  1.6   7.0       43.5   11.8   28.0\n",
            "3     0.0  0.0  1.0  0.0  0.0  0.0  ...    4.0  0.7   7.0       43.5   11.8   28.0\n",
            "4     0.0  0.0  0.0  0.0  0.0  0.0  ...    4.0  1.9   6.0       43.5   11.8   28.0\n",
            "...   ...  ...  ...  ...  ...  ...  ...    ...  ...   ...        ...    ...    ...\n",
            "7747  0.0  0.0  0.0  0.0  1.0  0.0  ...    9.0  1.9  67.0       64.6   21.5  112.0\n",
            "7748  0.0  0.0  0.0  0.0  0.0  0.0  ...    9.0  0.7  52.0       64.6   21.5  112.0\n",
            "7749  0.0  0.0  0.0  0.0  0.0  0.0  ...    9.0  0.7  34.0       64.6   21.5  112.0\n",
            "7750  0.0  0.0  0.0  0.0  0.0  0.0  ...    9.0  1.0  34.0       64.6   21.5  112.0\n",
            "7751  0.0  0.0  0.0  0.0  0.0  0.0  ...    9.0  1.5  32.0       64.6   21.5  112.0\n",
            "\n",
            "[7752 rows x 16 columns]\n"
          ],
          "name": "stdout"
        }
      ]
    },
    {
      "cell_type": "markdown",
      "metadata": {
        "id": "gvs1cfIfzskX"
      },
      "source": [
        "## Correlation matrix"
      ]
    },
    {
      "cell_type": "code",
      "metadata": {
        "id": "tAtJYde5zzRS"
      },
      "source": [
        "print('Correlation matrix\\n',categorical_data.corr())\n",
        "sns.set()\n",
        "plt.figure(figsize=(13,9))\n",
        "correlation_data = categorical_data[['hours', 'days', 'months', 'WS','PM10','Synt Xrhs', 'Tmean', 'Yetos']]\n",
        "sns.heatmap(correlation_data.corr(),cmap=plt.cm.Reds,annot=True)\n",
        "plt.title('Heatmap displaying the correlation matrix of the variables',fontsize=16)\n",
        "plt.show()"
      ],
      "execution_count": null,
      "outputs": []
    },
    {
      "cell_type": "markdown",
      "metadata": {
        "id": "YuvDons70DZJ"
      },
      "source": [
        "# Splitting the dataset into the Training set and Test set"
      ]
    },
    {
      "cell_type": "code",
      "metadata": {
        "id": "rpjZdghI0IBf"
      },
      "source": [
        "X= categorical_data.drop('PM10',axis=1)                                        #indepedent variable\n",
        "y=categorical_data['PM10']                                                     #depedent variable\n",
        "\n",
        "from sklearn.model_selection import train_test_split\n",
        "X_train, X_test, y_train, y_test = train_test_split(X, y, test_size = 0.25, random_state = 1)\n"
      ],
      "execution_count": 56,
      "outputs": []
    },
    {
      "cell_type": "code",
      "metadata": {
        "colab": {
          "base_uri": "https://localhost:8080/"
        },
        "id": "0Q5WHAUX0LKP",
        "outputId": "92e14933-7e4c-4a34-cc75-bc0ac8c94915"
      },
      "source": [
        "print(X,\"\\n\\n\",y)"
      ],
      "execution_count": 22,
      "outputs": [
        {
          "output_type": "stream",
          "text": [
            "        1    2    3    4    5    6  ... days months   WS  Synt Xrhs  Tmean  Yetos\n",
            "0     1.0  0.0  0.0  0.0  0.0  0.0  ...  1.0    4.0  1.3       43.5   11.8   28.0\n",
            "1     0.0  0.0  0.0  0.0  0.0  1.0  ...  1.0    4.0  1.3       43.5   11.8   28.0\n",
            "2     0.0  0.0  1.0  0.0  0.0  0.0  ...  1.0    4.0  1.6       43.5   11.8   28.0\n",
            "3     0.0  0.0  1.0  0.0  0.0  0.0  ...  1.0    4.0  0.7       43.5   11.8   28.0\n",
            "4     0.0  0.0  0.0  0.0  0.0  0.0  ...  1.0    4.0  1.9       43.5   11.8   28.0\n",
            "...   ...  ...  ...  ...  ...  ...  ...  ...    ...  ...        ...    ...    ...\n",
            "7747  0.0  0.0  0.0  0.0  1.0  0.0  ...  2.0    9.0  1.9       64.6   21.5  112.0\n",
            "7748  0.0  0.0  0.0  0.0  0.0  0.0  ...  2.0    9.0  0.7       64.6   21.5  112.0\n",
            "7749  0.0  0.0  0.0  0.0  0.0  0.0  ...  2.0    9.0  0.7       64.6   21.5  112.0\n",
            "7750  0.0  0.0  0.0  0.0  0.0  0.0  ...  2.0    9.0  1.0       64.6   21.5  112.0\n",
            "7751  0.0  0.0  0.0  0.0  0.0  0.0  ...  2.0    9.0  1.5       64.6   21.5  112.0\n",
            "\n",
            "[7752 rows x 15 columns] \n",
            "\n",
            " 0        9.0\n",
            "1        7.0\n",
            "2        7.0\n",
            "3        7.0\n",
            "4        6.0\n",
            "        ... \n",
            "7747    67.0\n",
            "7748    52.0\n",
            "7749    34.0\n",
            "7750    34.0\n",
            "7751    32.0\n",
            "Name: PM10, Length: 7752, dtype: float64\n"
          ],
          "name": "stdout"
        }
      ]
    },
    {
      "cell_type": "markdown",
      "metadata": {
        "id": "SY5sENv90kEg"
      },
      "source": [
        "# Feature Scaling"
      ]
    },
    {
      "cell_type": "code",
      "metadata": {
        "id": "kUYbPhYl0sZ8"
      },
      "source": [
        "from sklearn.preprocessing import StandardScaler\n",
        "sc = StandardScaler()                                                           #standardisation\n",
        "colNumber=8                                                                    \n",
        "X_train.iloc[:, colNumber:] = sc.fit_transform(X_train.iloc[:, colNumber:].values)#Me tin fit_transform upologizw tin mesi timi kai tin tupiki apoklisi \n",
        "X_test.iloc[:, colNumber:] = sc.transform(X_test.iloc[:, colNumber:].values)"
      ],
      "execution_count": 23,
      "outputs": []
    },
    {
      "cell_type": "code",
      "metadata": {
        "colab": {
          "base_uri": "https://localhost:8080/"
        },
        "id": "p-oSqTkS0v7a",
        "outputId": "d09d3140-5f17-4ece-a11c-2b16a6ec7fee"
      },
      "source": [
        "print(X_train)"
      ],
      "execution_count": 24,
      "outputs": [
        {
          "output_type": "stream",
          "text": [
            "        1    2    3    4  ...        WS Synt Xrhs     Tmean     Yetos\n",
            "101   0.0  0.0  0.0  0.0  ... -0.606581 -1.628251 -0.139960 -0.798025\n",
            "3943  1.0  0.0  0.0  0.0  ... -0.665520  2.299127  1.704191 -0.647552\n",
            "3338  1.0  0.0  0.0  0.0  ...  0.218573  0.750302 -1.234156 -0.406795\n",
            "7535  0.0  0.0  0.0  0.0  ...  0.041754 -0.964469  0.118221  1.970680\n",
            "4226  0.0  0.0  1.0  0.0  ... -0.370823 -0.322813  0.954237 -0.527173\n",
            "...   ...  ...  ...  ...  ...       ...       ...       ...       ...\n",
            "905   0.0  1.0  0.0  0.0  ... -0.194004  0.661798  1.396833  0.435854\n",
            "5192  0.0  0.0  1.0  0.0  ...  1.927819 -0.754271  0.683761  0.435854\n",
            "3980  0.0  0.0  0.0  1.0  ...  0.395391  2.299127  1.704191 -0.647552\n",
            "235   0.0  0.0  1.0  0.0  ... -0.429762 -1.628251 -0.139960 -0.798025\n",
            "5157  0.0  0.0  1.0  0.0  ...  0.277512 -0.754271  0.683761  0.435854\n",
            "\n",
            "[5814 rows x 15 columns]\n"
          ],
          "name": "stdout"
        }
      ]
    },
    {
      "cell_type": "code",
      "metadata": {
        "colab": {
          "base_uri": "https://localhost:8080/"
        },
        "id": "ffC0ouQv00aQ",
        "outputId": "cdd1cbaa-5b51-4014-c304-9e382b1feb9d"
      },
      "source": [
        "print(X_test)"
      ],
      "execution_count": 25,
      "outputs": [
        {
          "output_type": "stream",
          "text": [
            "        1    2    3    4  ...        WS Synt Xrhs     Tmean     Yetos\n",
            "6430  0.0  0.0  0.0  0.0  ... -0.488702  0.009078 -0.877620  1.188220\n",
            "863   0.0  0.0  1.0  0.0  ...  0.277512  0.661798  1.396833  0.435854\n",
            "7001  0.0  1.0  0.0  0.0  ... -0.665520  0.009078 -0.238314 -0.587363\n",
            "5781  0.0  0.0  0.0  0.0  ... -0.783399  0.009078 -0.877620  1.188220\n",
            "6977  0.0  0.0  0.0  1.0  ... -0.488702  0.009078 -0.238314 -0.587363\n",
            "...   ...  ...  ...  ...  ...       ...       ...       ...       ...\n",
            "6025  1.0  0.0  0.0  0.0  ... -0.311883  0.009078 -0.877620  1.188220\n",
            "5862  0.0  0.0  1.0  0.0  ...  1.809940  0.009078 -0.877620  1.188220\n",
            "1228  0.0  0.0  0.0  0.0  ... -0.665520  0.661798  1.396833  0.435854\n",
            "5899  0.0  1.0  0.0  0.0  ... -0.606581  0.009078 -0.877620  1.188220\n",
            "6077  0.0  0.0  1.0  0.0  ... -0.076125  0.009078 -0.877620  1.188220\n",
            "\n",
            "[1938 rows x 15 columns]\n"
          ],
          "name": "stdout"
        }
      ]
    },
    {
      "cell_type": "markdown",
      "metadata": {
        "id": "ruZ8JL2N2M7Z"
      },
      "source": [
        "\n",
        "# Model Training"
      ]
    },
    {
      "cell_type": "markdown",
      "metadata": {
        "id": "FnV9TUkF3OhY"
      },
      "source": [
        "##As regression problem"
      ]
    },
    {
      "cell_type": "markdown",
      "metadata": {
        "id": "PE6M1vSs3ZsP"
      },
      "source": [
        "####Linear Regression"
      ]
    },
    {
      "cell_type": "code",
      "metadata": {
        "colab": {
          "base_uri": "https://localhost:8080/"
        },
        "id": "68DgukNJ3Spg",
        "outputId": "f89becda-1537-40ca-f818-9e5709a32b24"
      },
      "source": [
        "from sklearn.linear_model import LinearRegression\n",
        "lin_model = LinearRegression()\n",
        "lin_model.fit(X_train,y_train) #fit the model\n",
        "\n",
        "print('------ Linear Regression -------')\n",
        "print('Score on train data: {}'.format(lin_model.score(X_train,y_train)))\n",
        "print('Score on test data: {}\\n'.format(lin_model.score(X_test,y_test)))\n",
        "from sklearn.metrics import r2_score,mean_squared_error\n",
        "prediction = lin_model.predict(X_test)\n",
        "mse = mean_squared_error(y_test,prediction)\n",
        "accuracy = r2_score(y_test,prediction)\n",
        "\n",
        "print('Mean Squared Error: {}'.format(mse))\n",
        "print('Overall model accuracy: {}'.format(accuracy))"
      ],
      "execution_count": 27,
      "outputs": [
        {
          "output_type": "stream",
          "text": [
            "------Linear Regression -------\n",
            "Score on train data: 0.14678630841975604\n",
            "Score on test data: 0.09879976987266448\n",
            "\n",
            "Mean Squared Error: 201.9421606312345\n",
            "Overall model accuracy: 0.09879976987266448\n"
          ],
          "name": "stdout"
        }
      ]
    },
    {
      "cell_type": "markdown",
      "metadata": {
        "id": "Xlg4g4613p7K"
      },
      "source": [
        "####Decision tree  regressor"
      ]
    },
    {
      "cell_type": "code",
      "metadata": {
        "colab": {
          "base_uri": "https://localhost:8080/"
        },
        "id": "qgBH2c9b3jtp",
        "outputId": "3fcabee5-81a5-4b83-d09a-4a11505dcf2d"
      },
      "source": [
        "from sklearn.tree import DecisionTreeRegressor\n",
        "\n",
        "decision_tree = DecisionTreeRegressor(max_depth=5,max_features='auto',min_samples_split=3, min_samples_leaf=2)\n",
        "decision_tree.fit(X_train,y_train)\n",
        "print('\\n----------- Decision Tree Regressor ------------')\n",
        "print('Score on train data: {}'.format(decision_tree.score(X_train,y_train)))\n",
        "print('Score on test data: {}\\n'.format(decision_tree.score(X_test,y_test)))\n",
        "tree_pred = decision_tree.predict(X_test)\n",
        "tree_mse = mean_squared_error(y_test,tree_pred)\n",
        "tree_accuracy = r2_score(y_test,tree_pred)\n",
        "print('Root Mean Squared Error: {}'.format(np.sqrt(tree_mse)))\n",
        "print('Overall model accuracy: {}'.format(tree_accuracy))"
      ],
      "execution_count": 31,
      "outputs": [
        {
          "output_type": "stream",
          "text": [
            "\n",
            "----------- Decision Tree Regressor ------------\n",
            "Score on train data: 0.2957634814941499\n",
            "Score on test data: 0.25114272234944746\n",
            "\n",
            "Root Mean Squared Error: 12.953954870168994\n",
            "Overall model accuracy: 0.25114272234944746\n"
          ],
          "name": "stdout"
        }
      ]
    },
    {
      "cell_type": "markdown",
      "metadata": {
        "id": "4g5qr29C32Vi"
      },
      "source": [
        "####Grid search decision tree "
      ]
    },
    {
      "cell_type": "code",
      "metadata": {
        "colab": {
          "base_uri": "https://localhost:8080/",
          "height": 204
        },
        "id": "tbe-z_on4Br5",
        "outputId": "6f09ed16-9d34-47fc-d59d-a797a6b835a0"
      },
      "source": [
        "from sklearn.model_selection import GridSearchCV,train_test_split\n",
        "print('\\n----------- Decision tree GridSearch ------------')\n",
        "\n",
        "params = {'max_depth':[3,4,5,6,7],\n",
        "         'max_features':['auto','sqrt','log2'],\n",
        "         'min_samples_split':[2,3,4,5,6,7,8,9,10],\n",
        "         'min_samples_leaf':[2,3,4,5,6,7,8,9,10]}\n",
        "\n",
        "tree = DecisionTreeRegressor()\n",
        "tree_search = GridSearchCV(tree,param_grid=params,n_jobs=-1,cv=5)\n",
        "tree_search.fit(X_train,y_train)   # fit the model\n",
        "\n",
        "print('Score on train data: {}'.format(tree_search.score(X_train,y_train)))\n",
        "print('Score on test data: {}'.format(tree_search.score(X_test,y_test)))\n",
        "print('Best parameters found:')\n",
        "display(tree_search.best_params_)\n",
        "\n",
        "tree_search_pred = tree_search.predict(X_test)\n",
        "tree_search_mse = mean_squared_error(y_test,tree_search_pred)\n",
        "tree_search_accuracy = r2_score(y_test,tree_search_pred)\n",
        "\n",
        "print('Root Mean Squared Error: {}'.format(np.sqrt(tree_search_mse)))\n",
        "print('Overall model accuracy: {}'.format(tree_search_accuracy))"
      ],
      "execution_count": 29,
      "outputs": [
        {
          "output_type": "stream",
          "text": [
            "\n",
            "----------- Decision tree GridSearch ------------\n",
            "Score on train data: 0.4055855719318816\n",
            "Score on test data: 0.27794931098683096\n",
            "Best parameters found:\n"
          ],
          "name": "stdout"
        },
        {
          "output_type": "display_data",
          "data": {
            "text/plain": [
              "{'max_depth': 7,\n",
              " 'max_features': 'auto',\n",
              " 'min_samples_leaf': 7,\n",
              " 'min_samples_split': 4}"
            ]
          },
          "metadata": {
            "tags": []
          }
        },
        {
          "output_type": "stream",
          "text": [
            "Root Mean Squared Error: 12.719987826778391\n",
            "Overall model accuracy: 0.27794931098683096\n"
          ],
          "name": "stdout"
        }
      ]
    },
    {
      "cell_type": "markdown",
      "metadata": {
        "id": "ySm5mivb4RmJ"
      },
      "source": [
        "####RandomForestRegressor"
      ]
    },
    {
      "cell_type": "code",
      "metadata": {
        "colab": {
          "base_uri": "https://localhost:8080/"
        },
        "id": "Fs8deNxW4U3e",
        "outputId": "cccbd944-87ad-4261-b3f8-b0982dcdeac3"
      },
      "source": [
        "from sklearn.ensemble import RandomForestRegressor\n",
        "forest_search = RandomForestRegressor(n_estimators=100,max_depth=7, max_features='auto',\n",
        "                              min_samples_split=7,min_samples_leaf=3)\n",
        "forest_search.fit(X_train,y_train)\n",
        "print('\\n----------- RandomForest ------------')\n",
        "print('\\nScore on train data: {}'.format(forest_search.score(X_train,y_train)))\n",
        "print('Score on test data: {}'.format(forest_search.score(X_test,y_test)))\n",
        "\n",
        "forest_search_pred = forest_search.predict(X_test)\n",
        "forest_search_mse = mean_squared_error(y_test,forest_search_pred)\n",
        "forest_search_accuracy = r2_score(y_test,forest_search_pred)\n",
        "\n",
        "print('Root Mean Squared Error: {}'.format(np.sqrt(forest_search_mse)))\n",
        "print('Overall model accuracy: {}'.format(forest_search_accuracy))"
      ],
      "execution_count": 30,
      "outputs": [
        {
          "output_type": "stream",
          "text": [
            "\n",
            "----------- RandomForest ------------\n",
            "\n",
            "Score on train data: 0.49777032394036375\n",
            "Score on test data: 0.4095274345754347\n",
            "Root Mean Squared Error: 11.5027773719384\n",
            "Overall model accuracy: 0.4095274345754347\n"
          ],
          "name": "stdout"
        }
      ]
    },
    {
      "cell_type": "markdown",
      "metadata": {
        "id": "U1dfaTct4ncL"
      },
      "source": [
        "####MLP"
      ]
    },
    {
      "cell_type": "code",
      "metadata": {
        "colab": {
          "base_uri": "https://localhost:8080/"
        },
        "id": "KITTikzv4m0-",
        "outputId": "4b877ff8-8395-4ac5-9aef-751b19f35529"
      },
      "source": [
        "from sklearn.neural_network import MLPRegressor\n",
        "clfMLP = MLPRegressor(hidden_layer_sizes=(64,64,64),activation=\"relu\" ,random_state=1, max_iter=2000)\n",
        "clfMLP.fit(X_train, y_train)\n",
        "print('\\n----------- MLP ------------')\n",
        "print('\\nScore on train data: {}'.format(clfMLP.score(X_train,y_train)))\n",
        "print('Score on test data: {}'.format(clfMLP.score(X_test,y_test)))\n",
        "MLP_search_pred = forest_search.predict(X_test)\n",
        "MLP_search_mse = mean_squared_error(y_test,forest_search_pred)\n",
        "MLP_search_accuracy = r2_score(y_test,forest_search_pred)\n",
        "\n",
        "print('Root Mean Squared Error: {}'.format(np.sqrt(MLP_search_mse)))\n",
        "print('Overall model accuracy: {}'.format(MLP_search_accuracy))"
      ],
      "execution_count": 33,
      "outputs": [
        {
          "output_type": "stream",
          "text": [
            "\n",
            "----------- MLP ------------\n",
            "\n",
            "Score on train data: 0.5817034764857607\n",
            "Score on test data: 0.34290269807538487\n",
            "Root Mean Squared Error: 11.5027773719384\n",
            "Overall model accuracy: 0.4095274345754347\n"
          ],
          "name": "stdout"
        }
      ]
    },
    {
      "cell_type": "markdown",
      "metadata": {
        "id": "T8rRo1Y25A_K"
      },
      "source": [
        "####Gradient Boosting Regressor"
      ]
    },
    {
      "cell_type": "code",
      "metadata": {
        "colab": {
          "base_uri": "https://localhost:8080/"
        },
        "id": "_xkdcvFY5FEr",
        "outputId": "399fb217-d4bf-4819-b7d3-c7a77ea60bf1"
      },
      "source": [
        "from sklearn.ensemble import  GradientBoostingRegressor\n",
        "grad_boost = GradientBoostingRegressor(n_estimators=100,max_depth=7,max_features='auto',\n",
        "                                      min_samples_split=7,min_samples_leaf=3,learning_rate=0.1)\n",
        "grad_boost.fit(X_train,y_train)\n",
        "print('\\n----------- Gradient Boosting Regressor ------------')\n",
        "print('\\nScore on train data: {}'.format(grad_boost.score(X_train,y_train)))\n",
        "print('Score on test data: {}'.format(grad_boost.score(X_test,y_test)))\n",
        "\n",
        "gboost_pred = grad_boost.predict(X_test)\n",
        "gboost_mse = mean_squared_error(y_test,gboost_pred)\n",
        "gboost_accuracy = r2_score(y_test,gboost_pred)\n",
        "\n",
        "print('Root Mean Squared Error: {}'.format(np.sqrt(gboost_mse)))\n",
        "print('Overall model accuracy: {}'.format(gboost_accuracy))"
      ],
      "execution_count": 36,
      "outputs": [
        {
          "output_type": "stream",
          "text": [
            "\n",
            "----------- Gradient Boosting Regressor ------------\n",
            "\n",
            "Score on train data: 0.8371741637764841\n",
            "Score on test data: 0.507040551685294\n",
            "Root Mean Squared Error: 10.510138758763643\n",
            "Overall model accuracy: 0.507040551685294\n"
          ],
          "name": "stdout"
        }
      ]
    },
    {
      "cell_type": "markdown",
      "metadata": {
        "id": "DE0jjQhs5TA3"
      },
      "source": [
        "####RandomizedSearchCV"
      ]
    },
    {
      "cell_type": "code",
      "metadata": {
        "colab": {
          "base_uri": "https://localhost:8080/",
          "height": 306
        },
        "id": "-4PAfU935TTg",
        "outputId": "833d8430-eacd-4815-c781-68f89c50b1cf"
      },
      "source": [
        "from sklearn.model_selection import RandomizedSearchCV\n",
        "\n",
        "params['learning_rate'] = np.linspace(0.1,0.2,10)#start,stop, num\n",
        "# instantiate the model\n",
        "gradient_boosting = GradientBoostingRegressor()\n",
        "\n",
        "# perform the grid search for the best parameters\n",
        "print('\\n----------- Randomized Search ------------')\n",
        "gboost_search = RandomizedSearchCV(gradient_boosting,params,n_jobs=-1,\n",
        "                                   cv=5,verbose=2)\n",
        "gboost_search.fit(X_train,y_train)\n",
        "\n",
        "print('\\nScore on train data: {}'.format(gboost_search.score(X_train,y_train)))\n",
        "print('Score on test data: {}'.format(gboost_search.score(X_test,y_test)))\n",
        "print('Best parameters found:')\n",
        "display(gboost_search.best_params_)\n",
        "\n",
        "gboost_search_pred = gboost_search.predict(X_test)\n",
        "gboost_search_mse = mean_squared_error(y_test,gboost_search_pred)\n",
        "gboost_search_accuracy = r2_score(y_test,gboost_search_pred)\n",
        "\n",
        "print('Root Mean Squared Error: {}'.format(np.sqrt(gboost_search_mse)))\n",
        "print('Overall model accuracy: {}'.format(gboost_search_accuracy))"
      ],
      "execution_count": 40,
      "outputs": [
        {
          "output_type": "stream",
          "text": [
            "\n",
            "----------- Randomized Search ------------\n",
            "Fitting 5 folds for each of 10 candidates, totalling 50 fits\n"
          ],
          "name": "stdout"
        },
        {
          "output_type": "stream",
          "text": [
            "[Parallel(n_jobs=-1)]: Using backend LokyBackend with 2 concurrent workers.\n",
            "[Parallel(n_jobs=-1)]: Done  37 tasks      | elapsed:   12.8s\n",
            "[Parallel(n_jobs=-1)]: Done  50 out of  50 | elapsed:   14.8s finished\n"
          ],
          "name": "stderr"
        },
        {
          "output_type": "stream",
          "text": [
            "\n",
            "Score on train data: 0.7919989907140993\n",
            "Score on test data: 0.4984723525981421\n",
            "Best parameters found:\n"
          ],
          "name": "stdout"
        },
        {
          "output_type": "display_data",
          "data": {
            "text/plain": [
              "{'learning_rate': 0.1,\n",
              " 'max_depth': 7,\n",
              " 'max_features': 'auto',\n",
              " 'min_samples_leaf': 5,\n",
              " 'min_samples_split': 5}"
            ]
          },
          "metadata": {
            "tags": []
          }
        },
        {
          "output_type": "stream",
          "text": [
            "Root Mean Squared Error: 10.60108439326726\n",
            "Overall model accuracy: 0.49847235259814204\n"
          ],
          "name": "stdout"
        }
      ]
    },
    {
      "cell_type": "code",
      "metadata": {
        "id": "-8EEXp7k6CIF"
      },
      "source": [
        "predicted=gboost_search.predict(X)"
      ],
      "execution_count": 41,
      "outputs": []
    },
    {
      "cell_type": "markdown",
      "metadata": {
        "id": "XREpMU-X7JGP"
      },
      "source": [
        "#Visualising the results"
      ]
    },
    {
      "cell_type": "code",
      "metadata": {
        "id": "aCqRO6zI7h6R"
      },
      "source": [
        "#xrisimopoiw to kalutero modelo gia na kanw predict ton deikti pm10\n",
        "compare_data = pd.DataFrame({'dates':df['datetime'],\n",
        "                            'Actual PM10':y,\n",
        "                            'Predicted PM10':gboost_search.predict(X)})\n",
        "compare_data[\"Actual PM10\"] = pd.to_numeric(compare_data[\"Actual PM10\"])\n",
        "compare_data[\"Predicted PM10\"] = pd.to_numeric(compare_data[\"Predicted PM10\"])\n",
        "compare_data.set_index('dates',inplace=True)\n",
        "compare_data['Predicted PM10'] = np.round(compare_data['Predicted PM10'],1)"
      ],
      "execution_count": 43,
      "outputs": []
    },
    {
      "cell_type": "code",
      "metadata": {
        "colab": {
          "base_uri": "https://localhost:8080/",
          "height": 337
        },
        "id": "gYVQaPtI7K6n",
        "outputId": "bb4e4b57-4afe-4c77-9a67-3966e2e52e48"
      },
      "source": [
        "# plot the daily averages of the Actual PM10 and the predicted PM10\n",
        "compare_data = compare_data.resample('D').mean()\n",
        "\n",
        "with plt.style.context('fivethirtyeight'):\n",
        "    plt.figure(figsize=(8,4))\n",
        "    plt.scatter(compare_data.index,compare_data['Actual PM10'],s=15,label='Actual PM10',\n",
        "               alpha=.6)\n",
        "    plt.scatter(compare_data.index,compare_data['Predicted PM10'],s=15,label='Predicted PM10',\n",
        "               alpha=.6)\n",
        "    plt.legend()\n",
        "    plt.title('Evaluating the model\\n',\n",
        "             fontsize=18)\n",
        "    plt.xlabel('period',fontsize=15)\n",
        "    plt.ylabel('PM10 concentration',fontsize=15)\n",
        "    plt.show()  "
      ],
      "execution_count": 45,
      "outputs": [
        {
          "output_type": "display_data",
          "data": {
            "image/png": "[encoded data removed]",
            "text/plain": [
              "<Figure size 576x288 with 1 Axes>"
            ]
          },
          "metadata": {
            "tags": []
          }
        }
      ]
    },
    {
      "cell_type": "markdown",
      "metadata": {
        "id": "yMDlamRj8Nct"
      },
      "source": [
        "Parity Plot"
      ]
    },
    {
      "cell_type": "code",
      "metadata": {
        "colab": {
          "base_uri": "https://localhost:8080/",
          "height": 372
        },
        "id": "Z0LHeIdt8PZm",
        "outputId": "679902f1-8dad-4094-9885-a235ac478e6d"
      },
      "source": [
        "# Plot Figures me compare \n",
        "fignow = plt.figure(figsize=(5,5))\n",
        "\n",
        "x = compare_data['Actual PM10']\n",
        "y = compare_data[\"Predicted PM10\"]\n",
        "\n",
        "## find the boundaries of X and Y values\n",
        "bounds = (min(x.min(), y.min()) - int(0.1 * y.min()), max(x.max(), y.max())+ int(0.1 * y.max()))\n",
        "# Reset the limits\n",
        "ax = plt.gca()\n",
        "ax.set_xlim(bounds)\n",
        "ax.set_ylim(bounds)\n",
        "# Ensure the aspect ratio is square\n",
        "ax.set_aspect(\"equal\", adjustable=\"box\")\n",
        "plt.plot(x,y,\"o\", alpha=0.5 ,ms=10, markeredgewidth=0.0)\n",
        "\n",
        "ax.plot([0, 1], [0, 1], \"r-\",lw=2 ,transform=ax.transAxes)\n",
        "# Calculate Statistics of the Parity Plot \n",
        "mean_abs_err = np.mean(np.abs(x-y))\n",
        "rmse = np.sqrt(np.mean((x-y)**2))\n",
        "rmse_std = rmse / np.std(y)\n",
        "#z = np.polyfit(x,y, 1)\n",
        "#y_hat = np.poly1d(z)(x)\n",
        "# Title and labels \n",
        "plt.title(\"Parity Plot\")\n",
        "plt.xlabel('Actual')\n",
        "plt.ylabel('Predicted')"
      ],
      "execution_count": 47,
      "outputs": [
        {
          "output_type": "execute_result",
          "data": {
            "text/plain": [
              "Text(0, 0.5, 'Predicted')"
            ]
          },
          "metadata": {
            "tags": []
          },
          "execution_count": 47
        },
        {
          "output_type": "display_data",
          "data": {
            "image/png": "[encoded data removed]",
            "text/plain": [
              "<Figure size 360x360 with 1 Axes>"
            ]
          },
          "metadata": {
            "tags": []
          }
        }
      ]
    },
    {
      "cell_type": "markdown",
      "metadata": {
        "id": "BZwnwR6S8z01"
      },
      "source": [
        "#Results and conclusions"
      ]
    },
    {
      "cell_type": "code",
      "metadata": {
        "colab": {
          "base_uri": "https://localhost:8080/"
        },
        "id": "g02TIXeG877b",
        "outputId": "6034b529-2a2c-4cb7-99eb-6fff26ea6a28"
      },
      "source": [
        "print(\"\\nREGRESSION \\n avg\",np.median(prediction),\"\\n standard deviation \",np.std(prediction) ,\"\\n\")\n",
        "print(\"DECISION TREE \\n avg\",np.median(tree_pred),\"\\n standard deviation \",np.std(tree_pred) ,\"\\n\")\n",
        "print(\"RANDOM FOREST \\n avg\",np.median(forest_search_pred),\"\\n standard deviation \",np.std(forest_search_pred),\"\\n\")\n",
        "print(\"GRADIENT BOOSTING REGRESSOR \\n avg\",np.median(gboost_pred),\"\\n standard deviation \",np.std(gboost_pred),\"\\n\")\n",
        "print(\"RANDOMIZED SEARCH \\n avg\",np.median(gboost_search_pred),\"\\n standard deviation \",np.std(gboost_search_pred),\"\\n\")\n",
        "print(\"test y \\n avg\",y_test.median(),\"\\n standard deviation\",y_test.std(),\"\\n\")"
      ],
      "execution_count": 55,
      "outputs": [
        {
          "output_type": "stream",
          "text": [
            "\n",
            "REGRESSION \n",
            " avg 24.64894402377896 \n",
            " standard deviation  6.498272124889501 \n",
            "\n",
            "DECISION TREE \n",
            " avg 24.03515183154963 \n",
            " standard deviation  9.190139272569557 \n",
            "\n",
            "RANDOM FOREST \n",
            " avg 23.287844618958708 \n",
            " standard deviation  9.525059892324059 \n",
            "\n",
            "GRADIENT BOOSTING REGRESSOR \n",
            " avg 23.164792185769386 \n",
            " standard deviation  11.745780322394308 \n",
            "\n",
            "RANDOMIZED SEARCH \n",
            " avg 23.06590595122744 \n",
            " standard deviation  11.691204342261573 \n",
            "\n",
            "test y \n",
            " avg 22.0 \n",
            " standard deviation 14.973210437195938 \n",
            "\n"
          ],
          "name": "stdout"
        }
      ]
    },
    {
      "cell_type": "markdown",
      "metadata": {
        "id": "mTxLhR88-Vb9"
      },
      "source": [
        "\n",
        "\n",
        "*  The results of predict percentages are very low \n",
        "*  Νotice that the results of the models are not satisfactory\n",
        "*  Ι will treat the problem as a classification problem since I first do the output data as categorical data\n",
        "\n"
      ]
    }
  ]
}